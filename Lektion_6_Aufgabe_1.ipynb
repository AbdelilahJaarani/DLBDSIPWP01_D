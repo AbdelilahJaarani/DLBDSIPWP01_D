{
 "cells": [
  {
   "cell_type": "markdown",
   "id": "9c396861",
   "metadata": {},
   "source": [
    "# Pandas, NumPy, SciPy, Matplotlib\n",
    "Orientiere dich gerne an den entsprechenden Code-Beispielen im Skript (Lernzyklus 6.4) und schaue dir ggf. zusätzlich die Dokumentationen der jeweiligen Module an (z.B. zugreifbar über die JupyterLab Hilfe) \n",
    "## Eindimensionale Funktion\n",
    "1. Lies die Datei Lektion_6_Daten.csv in einen DataFrame ein. Die Datei enthält x- und y-Werte mit f(x)=y (d.h. y enthält die Funktionswerte für x)\n",
    "2. Gib die ersten fünf Zeilen des DataFrame aus. Gib dann die ersten zehn Zeilen aus.\n",
    "3. Extrahiere die x- und y-Werte aus dem DataFrame. Dazu kann die Funktion [loc](https://pandas.pydata.org/pandas-docs/stable/reference/api/pandas.DataFrame.loc.html) verwendet werden.\n",
    "3. Interpoliere die Daten mit einer geeigneten Schrittweite.\n",
    "4. Plotte die eingelesenen und interpolierten Daten.\n",
    "\n",
    "Denke daran, deinen Programmcode zu dokumentieren"
   ]
  },
  {
   "cell_type": "code",
   "execution_count": null,
   "id": "81fbf0f4",
   "metadata": {
    "scrolled": true,
    "tags": []
   },
   "outputs": [],
   "source": []
  }
 ],
 "metadata": {
  "kernelspec": {
   "display_name": "Python 3 (ipykernel)",
   "language": "python",
   "name": "python3"
  },
  "language_info": {
   "codemirror_mode": {
    "name": "ipython",
    "version": 3
   },
   "file_extension": ".py",
   "mimetype": "text/x-python",
   "name": "python",
   "nbconvert_exporter": "python",
   "pygments_lexer": "ipython3",
   "version": "3.11.4"
  }
 },
 "nbformat": 4,
 "nbformat_minor": 5
}
