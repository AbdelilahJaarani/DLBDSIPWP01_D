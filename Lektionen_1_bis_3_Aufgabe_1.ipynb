{
 "cells": [
  {
   "cell_type": "markdown",
   "id": "83a290e9-1456-4bdd-8f5c-d77d888d1fe1",
   "metadata": {},
   "source": [
    "# Bedingte Anweisungen, Schleifen\n",
    "## Aufgabe - Programmiere ein Spiel\n",
    "* Generiere zufällig eine geheime Zahl zwischen 1 und 100 (recherchiere nach einer geeigneten Funktion). \n",
    "* Lasse die spielende Person diese geheime Zahl raten (mittels einer Eingabeaufforderung)\n",
    "* Wenn die Zahl erraten wurde, gib \"Bingo!\" aus und beende das Spiel.\n",
    "* Gib der spielenden Person Hinweise \"höher\" oder \"niedriger\" zum aktuellen Tipp.\n",
    "* Die spielende Person hat zehn Chancen.\n",
    "* Gelingt es nicht, innerhalb der erlaubten Versuche die richtige Zahl zu erraten, gib \"Oops, game over!\" aus und teile die geheime Zahl mit.\n",
    "\n",
    "Anmerkung: Es wird in diesem Beispiel auf eine Behandlung von Eingabefehlern verzichtet. Die Fehlerbehandlung wird in Lektion 5 eingeführt."
   ]
  },
  {
   "cell_type": "code",
   "execution_count": null,
   "id": "61fce68a",
   "metadata": {},
   "outputs": [],
   "source": []
  }
 ],
 "metadata": {
  "kernelspec": {
   "display_name": "Python 3 (ipykernel)",
   "language": "python",
   "name": "python3"
  },
  "language_info": {
   "codemirror_mode": {
    "name": "ipython",
    "version": 3
   },
   "file_extension": ".py",
   "mimetype": "text/x-python",
   "name": "python",
   "nbconvert_exporter": "python",
   "pygments_lexer": "ipython3",
   "version": "3.11.4"
  }
 },
 "nbformat": 4,
 "nbformat_minor": 5
}
