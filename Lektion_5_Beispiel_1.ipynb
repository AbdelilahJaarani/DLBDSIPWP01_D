{
 "cells": [
  {
   "cell_type": "markdown",
   "id": "70cddb42",
   "metadata": {},
   "source": [
    "# Fehlersuche\n",
    "## Aufgabe\n",
    "Die Datei `Lektion_5_Daten_A.txt` enthält Personendaten nach dem Format: \\<Name\\> \\<Alter\\> \\<Größe\\> \\<Gewicht\\>.\n",
    "Diese sollen durch das folgende Programm bearbeitet werden. Das Programm ist jedoch fehlerbehaftet.\n",
    "Verschaffe dir zunächst einen Überblick darüber, was das Programm tun soll.\n",
    "Verbessere dann das Programm, indem du alle Fehler korrigierst bzw. behandelst. Führe dazu das Programm mehrfach aus und analysiere die Fehlermeldungen und Ausgaben. Verwende Logging, um bei der Fehlersuche hilfreiche Ausgaben einzubauen. \n",
    "\n",
    "Wenn das Programm die erwarteten Ausgaben liefert, teste auch die Datei `Lektion_5_Daten_B.txt` und füge ggf. weitere Verbesserungen ein.\n",
    "\n",
    "## Beispiellösung\n",
    "Folgende Modifikationen wurden eingeführt:\n",
    "* Doppelpunkt hinter der `for`-Schleife\n",
    "* Behandlung nicht existierender Dateipfade\n",
    "* Logging zur Fehlerdiagnose\n",
    "* Nur ein Leerzeichen als Argument in `split`\n",
    "* Konvertierung von Gewicht und Größe nach float\n",
    "* Initialisierung der Variable `bmi` mit dem Rückgabewert der Funktion `calc_bmi`\n",
    "* Korrektur der Indizes bei dem Zugriff auf `items`\n",
    "* Behandlung eines fehlenden Wertes für die Größe\n",
    "\n",
    "Gerne darfst du diese Beispiellösung noch weiter optimieren!"
   ]
  },
  {
   "cell_type": "code",
   "execution_count": null,
   "id": "63d60051",
   "metadata": {},
   "outputs": [],
   "source": [
    "import logging\n",
    "logging.basicConfig(level=logging.DEBUG, force=True)\n",
    "\n",
    "def calc_bmi(weight, height):\n",
    "    logging.debug(\"Gewicht: \"+str(weight)+\" Größe: \"+str(height))\n",
    "    return weight / height**2\n",
    "\n",
    "filename = input(\"Bitte geben Sie einen Dateinamen ein: \")\n",
    "try:\n",
    "    file = open(filename,\"r\")\n",
    "except FileNotFoundError:\n",
    "    print(\"Datei\", filename, \"wurde nicht gefunden. Das Programm wird beendet\")\n",
    "else: \n",
    "    for line in file:\n",
    "        line = line.strip()\n",
    "        logging.debug(line)\n",
    "        items = line.split(\" \")\n",
    "        logging.debug(len(items))\n",
    "        logging.debug(type(items[2]))\n",
    "        try:\n",
    "            bmi = calc_bmi(float(items[3]), float(items[2]))\n",
    "        except ZeroDivisionError:\n",
    "            print(items[0], \"hat eine Größe von\", items[2], \"-> BMI kann nicht berechnet werden.\")\n",
    "        else:\n",
    "            print(items[0], \"hat einen BMI von ungefähr:\", int(bmi))\n",
    "    file.close()"
   ]
  }
 ],
 "metadata": {
  "kernelspec": {
   "display_name": "Python 3 (ipykernel)",
   "language": "python",
   "name": "python3"
  },
  "language_info": {
   "codemirror_mode": {
    "name": "ipython",
    "version": 3
   },
   "file_extension": ".py",
   "mimetype": "text/x-python",
   "name": "python",
   "nbconvert_exporter": "python",
   "pygments_lexer": "ipython3",
   "version": "3.11.4"
  }
 },
 "nbformat": 4,
 "nbformat_minor": 5
}
