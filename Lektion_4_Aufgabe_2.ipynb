{
 "cells": [
  {
   "cell_type": "markdown",
   "id": "58e182df-51b5-4959-ae39-44d2593ea6e1",
   "metadata": {},
   "source": [
    "# Definition und Aufruf von Funktionen"
   ]
  },
  {
   "cell_type": "code",
   "execution_count": null,
   "id": "47baf856-d04b-4688-a2d8-7da0cd45b2bb",
   "metadata": {
    "tags": []
   },
   "outputs": [],
   "source": [
    "example_height = 1.85\n",
    "example_weight = 78\n",
    "example_name = \"Müller, Peter\""
   ]
  },
  {
   "cell_type": "markdown",
   "id": "8e595969-f789-4e51-ae86-b3f227af9126",
   "metadata": {
    "tags": []
   },
   "source": [
    "## Aufgabe A\n",
    "Der folgende Code berechnet den Body Mass Index (BMI) aus den oben definierten Variablen und gibt diesen als Ganzzahl mit einer Erklärung aus.\n",
    "\n",
    "```\n",
    "example_bmi = int(example_weight / example_height**2)\n",
    "print(example_name, \"hat einen BMI von ungefähr:\", int(example_bmi))\n",
    "```\n",
    "\n",
    "1. Implementiere die BMI-Berechnung und -Ausgabe als Funktion. Verwende dabei ein Standardargument für den Namen (z.B. \"Anonym\").\n",
    "2. Rufe die Funktion mit Positions- und benannten Argumenten sowie mit und ohne Angabe des Namen-Arguments auf."
   ]
  },
  {
   "cell_type": "code",
   "execution_count": 2,
   "id": "ffe68209-02ab-4ce2-9e95-52a02fb8a26e",
   "metadata": {},
   "outputs": [
    {
     "name": "stdout",
     "output_type": "stream",
     "text": [
      "Anonym hat einen BMI von ungefähr: 24\n",
      "Jonnas hat einen BMI von ungefähr: 30\n"
     ]
    }
   ],
   "source": [
    "def BMICalculator(weight, height, name = \"Anonym\"):\n",
    "    bmi = int(weight/ height**2)\n",
    "    print (f\"{name} hat einen BMI von ungefähr: {bmi}\")\n",
    "\n",
    "\n",
    "BMIfromPersonOne = BMICalculator(78,1.80)\n",
    "BMIfromPersonTwo = BMICalculator(78,1.60, name=\"Jonnas\")\n",
    "\n"
   ]
  },
  {
   "cell_type": "markdown",
   "id": "5e294a70-b98d-4630-8cc0-15e236d593e1",
   "metadata": {},
   "source": [
    "## Aufgabe B\n",
    "Trenne die BMI-Berechnung von der Ausgabe (d.h. die Funktion soll nur die Berechnung übernehmen). Die Ausgabe soll im Hauptprogramm stattfinden. Überlege, inwiefern dies sinnvoller ist."
   ]
  },
  {
   "cell_type": "code",
   "execution_count": 5,
   "id": "c7a8e0eb-ca03-47f8-a5f0-73c5e9d1dd7e",
   "metadata": {},
   "outputs": [
    {
     "name": "stdout",
     "output_type": "stream",
     "text": [
      "Anonym hat einen BMI Wert von 24\n",
      "Jonnas hat einen BMI Wert von 30\n"
     ]
    }
   ],
   "source": [
    "def BMICalculator(weight, height, name = \"Anonym\"):\n",
    "    bmi = int(weight/ height**2)\n",
    "    bmiPerson = {\"name\": name,\n",
    "                 \"bmi\": bmi}\n",
    "    return bmiPerson\n",
    "\n",
    "\n",
    "BMIfromPersonOne = BMICalculator(78,1.80)\n",
    "BMIfromPersonTwo = BMICalculator(78,1.60, name=\"Jonnas\")\n",
    "\n",
    "print(f\"{BMIfromPersonOne['name']} hat einen BMI Wert von {BMIfromPersonOne['bmi']}\")\n",
    "print(f\"{BMIfromPersonTwo['name']} hat einen BMI Wert von {BMIfromPersonTwo['bmi']}\")"
   ]
  }
 ],
 "metadata": {
  "kernelspec": {
   "display_name": "Python 3 (ipykernel)",
   "language": "python",
   "name": "python3"
  },
  "language_info": {
   "codemirror_mode": {
    "name": "ipython",
    "version": 3
   },
   "file_extension": ".py",
   "mimetype": "text/x-python",
   "name": "python",
   "nbconvert_exporter": "python",
   "pygments_lexer": "ipython3",
   "version": "3.11.4"
  }
 },
 "nbformat": 4,
 "nbformat_minor": 5
}
