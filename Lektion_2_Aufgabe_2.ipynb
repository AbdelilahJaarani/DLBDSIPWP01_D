{
 "cells": [
  {
   "cell_type": "markdown",
   "id": "bc81b2e9-dc26-4d4a-acda-52ccfab96383",
   "metadata": {
    "tags": []
   },
   "source": [
    "# Collections\n",
    "## Aufgabe\n",
    "\n",
    "Es geht um die Verwaltung der Studierenden im Python-Kurs: Speichere die (aktuell zwei unten gegebenen) Studierenden mit ihren Matrikelnummern, ihren Studiengängen und den aktuellen Semestern in einer Variablen. Wähle dazu geeignete Datentypen. Zeige beispielhaft auch den Zugriff auf den Studiengang der ersten Person.\n",
    "* 92901145, Data Science, 1. Semester\n",
    "* 69343291, Cyber Security, 2. Semester\n",
    "* ...\n"
   ]
  },
  {
   "cell_type": "code",
   "execution_count": 3,
   "id": "cf4d38d5-4b97-473a-9fd2-38a73f2c10cb",
   "metadata": {},
   "outputs": [
    {
     "name": "stdout",
     "output_type": "stream",
     "text": [
      "92901145\n"
     ]
    }
   ],
   "source": [
    "Student1 = {\"Martikelnr\": \"92901145\", \n",
    "            \"Studienfach\": \"Data Science\",\n",
    "            \"Semester\":\"1\"\n",
    "            }\n",
    "Student2 = {\"Martikelnr\": \"69343291\",\n",
    "            \"Studienfach\": \"Cyber Security\",\n",
    "            \"Semester\":\"2\"\n",
    "            }\n",
    "\n",
    "\n",
    "print(Student1[\"Martikelnr\"])\n",
    "mrtNr = int(Student1[\"Martikelnr\"])\n",
    "StdFch = str(Student1[\"Studienfach\"])\n",
    "Smstr = str(Student1[\"Semester\"])\n"
   ]
  }
 ],
 "metadata": {
  "kernelspec": {
   "display_name": "Python 3 (ipykernel)",
   "language": "python",
   "name": "python3"
  },
  "language_info": {
   "codemirror_mode": {
    "name": "ipython",
    "version": 3
   },
   "file_extension": ".py",
   "mimetype": "text/x-python",
   "name": "python",
   "nbconvert_exporter": "python",
   "pygments_lexer": "ipython3",
   "version": "3.11.4"
  }
 },
 "nbformat": 4,
 "nbformat_minor": 5
}
