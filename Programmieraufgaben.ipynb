{
 "cells": [
  {
   "cell_type": "markdown",
   "id": "b474d14b-5ead-417d-a501-3d94bba6b278",
   "metadata": {
    "tags": []
   },
   "source": [
    "# Einführung in die Programmierung mit Python\n",
    "## Übungsaufgaben\n",
    "Die folgenden (kleinen) Programmieraufgaben sollen dir die Möglichkeit geben, die Inhalte des Skripts praktisch auszuprobieren, teilweise auch etwas über das Skript hinauszugehen, das Programmieren und Lesen von Dokumentationen zu üben und programmiertechnische Besonderheiten zu erfahren. Die Aufgaben sind (meist) lektionsübergreifend."
   ]
  },
  {
   "cell_type": "markdown",
   "id": "fe4c4bad-5a7b-4eef-8ce6-bdd23b7873bb",
   "metadata": {},
   "source": [
    "**1. Ausnahmen**\n",
    "\n",
    "Werde dir darüber bewusst, welche Arten von Ausnahmen es gibt (Auswahl) und wann sie auftreten. Übe auch die Deklaration einer Funktion.\n",
    "\n",
    "* Öffne eine Datei im Lesemodus. Der Dateiname soll über eine Benutzereingabe definiert werden. \n",
    "* Teste Namen von (in deiner lokalen Umgebung) existierenden und nichtexistierenden Dateien.\n",
    "* Fange mögliche Ausnahmen im Programm ab."
   ]
  },
  {
   "cell_type": "code",
   "execution_count": null,
   "id": "b8169f60-2f60-4b50-863b-c66ddc3f272a",
   "metadata": {
    "scrolled": true
   },
   "outputs": [],
   "source": []
  },
  {
   "cell_type": "markdown",
   "id": "6cf69d4d-03eb-4397-a1bf-7853d8f2c5b7",
   "metadata": {},
   "source": [
    "* Fordere den/die Benutzer:in auf, zunächst seine/ihre Körpergröße und anschließend sein/ihr Gewicht einzugeben. \n",
    "* Definiere eine Funktion, die den BMI (Körpergewicht in kg geteilt durch quadrierte Körpergröße in m) berechnet. Rufe diese mit den Eingaben auf und gib den BMI mit einer Erklärung (z.B. \"BMI: \\<hier das Ergebnis\\>\") aus.\n",
    "* Was passiert, wenn für die Körpergröße der Wert 0 eingegeben wird? \n",
    "* Was passiert, wenn eine Angabe nicht als Zahl, sondern als Wort angegeben wird? Wie müssen Fließkommazahlen eingegeben werden? \n",
    "* Wie kannst du eine Zeichenkette und eine Zahl zusammenbringen (für die Ausgabe oben)? Welche Ausnahme kann dabei auftreten?\n",
    "* Fange mögliche Ausnahmen im Programm ab."
   ]
  },
  {
   "cell_type": "code",
   "execution_count": null,
   "id": "a4ee7def-1b05-4a39-b9c2-8e31465e9f51",
   "metadata": {},
   "outputs": [],
   "source": []
  },
  {
   "cell_type": "markdown",
   "id": "21ca1e8c-971f-4a30-9e8f-e74c68c05aed",
   "metadata": {},
   "source": [
    "**2. Strings, Listen und List Comprehension**\n",
    "\n",
    "Erzeuge eine Liste mit Vornamen. Verwende nun List Comprehensions, um zwei weitere Listen zu erzeugen, eine mit allen Vornamen, die weniger als 6 Buchstaben enthalten, und eine mit allen Vornamen, die 6 oder mehr Buchstaben enthalten. Bei den kurzen Vornamen, hänge “ (short)” an, bei den langen, hänge “ (long)” an. Gib die Listen aus."
   ]
  },
  {
   "cell_type": "code",
   "execution_count": null,
   "id": "92054a6f-0c15-4958-9ef8-d80515644363",
   "metadata": {},
   "outputs": [],
   "source": []
  },
  {
   "cell_type": "markdown",
   "id": "e3f7d598-2c98-4388-bc0a-250a72dea132",
   "metadata": {},
   "source": [
    "**3. Indizierung, ranges**\n",
    "\n",
    "* Speichere deinen Vornamen in einer Variablen.\n",
    "* Gib den ersten Buchstaben deines Vornamens aus.\n",
    "* Gib die ersten drei Buchstaben deines Vornamens aus.\n",
    "* Erzeuge einen range, der die Zahlen von 0 bis einschließlich der 10 enthält. Modifiziere den Befehl, um einen range zu erzeugen, der nur jede zweite Zahl enthält (0,2...,10).\n",
    "* Wandle den erzeugten range in eine Liste um und füge die fehlenden ungeraden Zahlen an der jeweiligen Stelle mittels insert in diese Liste ein."
   ]
  },
  {
   "cell_type": "code",
   "execution_count": null,
   "id": "1de05a4d-c756-4203-8042-c7e90c6d02d4",
   "metadata": {},
   "outputs": [],
   "source": []
  },
  {
   "cell_type": "markdown",
   "id": "9c6cbf84-291b-4a5a-b978-ff7f7c6b03eb",
   "metadata": {},
   "source": [
    "**4. Logging**\n",
    "\n",
    "* Importiere die Logging-Bibliothek und schreibe fünf Loggingnachrichten (mit beliebigem Inhalt), je eine für jede Dringlichkeitsstufe. Führe den Code aus. Welche Ausgabe siehst du und warum?\n",
    "* Konfiguriere das Logging-Modul so, dass Nachrichten aller Dringlichkeitsstufen ausgegeben werden. Führe den Code erneut aus. Welche Ausgabe siehst du und warum? Wenn die Ausgabe nicht deinen Erwartungen entspricht, recherchiere [hier](https://docs.python.org/3/library/logging.html#logging.basicConfig)\n",
    "* Konfiguriere das Logging-Modul so, dass allen Nachrichten die aktuelle Zeit vorangestellt wird.\n",
    "* Erstelle eine Variable mit einem beliebigen Wert und gebe diese zusammen mit einer der Logging-Nachrichten aus.\n",
    "* Konfiguriere das Logging-Modul so, dass alle Nachrichten in eine Datei ausgegeben werden.\n",
    "* Führe den Code mehrmals aus. Was fällt dir auf, wenn du die Datei öffnest? Wie kannst du dies ändern? Recherchiere dazu ggf. wieder unter dem oben angegebenen Link."
   ]
  },
  {
   "cell_type": "code",
   "execution_count": null,
   "id": "75663331-1bd8-4fe0-b30f-ed81de35ab47",
   "metadata": {},
   "outputs": [],
   "source": []
  },
  {
   "cell_type": "markdown",
   "id": "c8ff123f-3dba-4c3f-8cdc-a83cd61e86a1",
   "metadata": {},
   "source": [
    "**5. Plotting**\n",
    "\n",
    "Verwende geeignete Funktionen aus der Matplotlib sowie NumPy, um eine Sinusfunktion im Bereich [-4,4] darzustellen. \n",
    "\n",
    "Tipp: Zur Erstellung der Funktionswerte kannst du die Funktionen [arange](https://numpy.org/doc/stable/reference/generated/numpy.arange.html) und [sin](https://numpy.org/doc/stable/reference/generated/numpy.sin.html) aus NumPy verwenden. Mittels arange kannst du Samples einer vorgegebenen Schrittweite im oben angegebenen Bereich generieren."
   ]
  },
  {
   "cell_type": "code",
   "execution_count": null,
   "id": "ded584fa-87cf-40d7-81d4-2ba7443a4b1c",
   "metadata": {},
   "outputs": [],
   "source": []
  },
  {
   "cell_type": "markdown",
   "id": "cbb2f6fe-16e1-47cb-bd0c-d6a0c22b057c",
   "metadata": {},
   "source": [
    "**6. NumPy Array**\n",
    "\n",
    "* Erzeuge zwei NumPy-Arrays mit den Integer-Zahlen von -3 bis 3 auf zwei Arten: \n",
    "    1. durch direkte Befüllung bei der Initialisierung\n",
    "    2. durch Erzeugung eines leeren Arrays mit [empty](https://numpy.org/doc/stable/reference/generated/numpy.empty.html) und der Befüllung mit Werten mittels range, einer for-Schleife und [append](https://numpy.org/doc/stable/reference/generated/numpy.append.html#numpy-append). \n",
    "* Implementiere dieselbe Funktionalität einmal durch Einbindung des gesamten NumPy-Moduls und einmal durch gezielte Einbindung der benötigten Funktionen."
   ]
  },
  {
   "cell_type": "code",
   "execution_count": null,
   "id": "7b284064-a883-44fb-a2ce-b7054d2584f3",
   "metadata": {},
   "outputs": [],
   "source": []
  },
  {
   "cell_type": "markdown",
   "id": "e3dfcfef",
   "metadata": {},
   "source": [
    "**7. Dokumentation**\n",
    "\n",
    "* Schreibe eine Funktion my_exp, die zwei numerische Argumente a, b erwartet und die Ergebnisse a „hoch“ b und a „mal“ b zurückliefert. \n",
    "* Statte diese Funktion mit einem Hilfetext aus. \n",
    "* Rufe den Hilfetext ab.\n",
    "* Rufe die Funktion mit beliebigen Werten auf. Bestimme den Typ des Rückgabewertes."
   ]
  },
  {
   "cell_type": "code",
   "execution_count": null,
   "id": "b7c2437f-401d-4a60-8c6c-c15f1696c292",
   "metadata": {},
   "outputs": [],
   "source": []
  },
  {
   "cell_type": "markdown",
   "id": "e4f24f58",
   "metadata": {},
   "source": [
    "**8. Iteratoren**\n",
    "\n",
    "* Erzeuge eine Liste mit beliebigen Einträgen (z.B. Zahlen)\n",
    "* Gib alle Elemente der Liste aus:\n",
    "    1. Basierend auf einer for-Schleife\n",
    "    2. Basierend auf einer while-Schleife unter Verwendung der Funktionen [iter](https://docs.python.org/3.9/library/functions.html?highlight=next#iter) und [next](https://docs.python.org/3.9/library/functions.html?highlight=next#next)"
   ]
  },
  {
   "cell_type": "code",
   "execution_count": null,
   "id": "3ba6918f",
   "metadata": {},
   "outputs": [],
   "source": []
  },
  {
   "cell_type": "markdown",
   "id": "0641a3ca",
   "metadata": {},
   "source": [
    "**9. Collections, Iteratoren**\n",
    "\n",
    "* Schreibe ein Programm, das ein Dictionary mit Angaben zu deiner Person erstellt und mittels eines Iterators alle Angaben ausgibt.\n",
    "* Erweitere dein Programm, so dass mehrere Personen gespeichert und deren Angaben ausgegeben werden können."
   ]
  },
  {
   "cell_type": "code",
   "execution_count": null,
   "id": "be810318",
   "metadata": {},
   "outputs": [],
   "source": []
  }
 ],
 "metadata": {
  "kernelspec": {
   "display_name": "Python 3 (ipykernel)",
   "language": "python",
   "name": "python3"
  },
  "language_info": {
   "codemirror_mode": {
    "name": "ipython",
    "version": 3
   },
   "file_extension": ".py",
   "mimetype": "text/x-python",
   "name": "python",
   "nbconvert_exporter": "python",
   "pygments_lexer": "ipython3",
   "version": "3.11.4"
  }
 },
 "nbformat": 4,
 "nbformat_minor": 5
}
