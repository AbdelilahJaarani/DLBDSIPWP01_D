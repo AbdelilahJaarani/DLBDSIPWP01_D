{
 "cells": [
  {
   "cell_type": "markdown",
   "id": "b474d14b-5ead-417d-a501-3d94bba6b278",
   "metadata": {
    "tags": []
   },
   "source": [
    "# Einführung in die Programmierung mit Python\n",
    "## Übungsaufgaben\n",
    "Die folgenden (kleinen) Programmieraufgaben sollen dir die Möglichkeit geben, die Inhalte des Skripts praktisch auszuprobieren, teilweise auch etwas über das Skript hinauszugehen, das Programmieren und Lesen von Dokumentationen zu üben und programmiertechnische Besonderheiten zu erfahren. Die Aufgaben sind (meist) lektionsübergreifend. Die Code-Schnipsel sind als Lösungsbeispiele, jedoch nicht als Musterlösung anzusehen."
   ]
  },
  {
   "cell_type": "markdown",
   "id": "fe4c4bad-5a7b-4eef-8ce6-bdd23b7873bb",
   "metadata": {},
   "source": [
    "**1. Einfache Dateioperationen und Ausnahmebehandlung**\n",
    "* Öffne eine Datei im Lesemodus und gib den Inhalt der Datei aus. Der Dateiname soll dabei über eine Benutzereingabe definiert werden.\n",
    "* Teste Namen von (in deiner lokalen Umgebung) existierenden und nichtexistierenden Dateien.\n",
    "* Fange mögliche Ausnahmen im Programm ab. Du kannst dich dabei auf diejenigen beziehen, die im Skript vorgestellt werden."
   ]
  },
  {
   "cell_type": "code",
   "execution_count": null,
   "id": "bd420026-da11-4905-ab55-d79accb64873",
   "metadata": {},
   "outputs": [],
   "source": []
  },
  {
   "cell_type": "markdown",
   "id": "6cf69d4d-03eb-4397-a1bf-7853d8f2c5b7",
   "metadata": {},
   "source": [
    "**2. Funktionen und Ausnahmebehandlung**\n",
    "* Fordere die benutzende Person auf, zunächst ihre Körpergröße und anschließend ihr Gewicht einzugeben. \n",
    "* Definiere eine Funktion, die den BMI (Körpergewicht in kg geteilt durch quadrierte Körpergröße in m) berechnet. Rufe diese mit den Eingaben auf und gib den BMI mit einer Erklärung aus.\n",
    "* Teste unterschiedliche Eingaben, z.B. Körpergröße \"0\", \"No\" etc. \n",
    "* Fange mögliche Ausnahmen im Programm ab. Du kannst dich dabei auf diejenigen beziehen, die im Skript vorgestellt werden."
   ]
  },
  {
   "cell_type": "code",
   "execution_count": null,
   "id": "a4ee7def-1b05-4a39-b9c2-8e31465e9f51",
   "metadata": {},
   "outputs": [],
   "source": []
  },
  {
   "cell_type": "markdown",
   "id": "21ca1e8c-971f-4a30-9e8f-e74c68c05aed",
   "metadata": {},
   "source": [
    "**3. Strings, Listen und List Comprehensions**\n",
    "\n",
    "Die Liste `names` enthält Vornamen. Implementiere nun zwei List Comprehensions, um zwei weitere Listen zu erzeugen, eine mit allen Vornamen, die weniger als sechs Buchstaben enthalten, und eine mit allen Vornamen, die sechs oder mehr Buchstaben enthalten. Bei den kurzen Vornamen, hänge “ (short)” an, bei den langen, hänge “ (long)” an. Gib die Listen aus."
   ]
  },
  {
   "cell_type": "code",
   "execution_count": null,
   "id": "92054a6f-0c15-4958-9ef8-d80515644363",
   "metadata": {},
   "outputs": [],
   "source": [
    "names = [\"Bernd\",\"Martina\",\"Thorsten\",\"Franka\",\"Luise\"]\n"
   ]
  },
  {
   "cell_type": "markdown",
   "id": "e3f7d598-2c98-4388-bc0a-250a72dea132",
   "metadata": {},
   "source": [
    "**4. Indizierung, ranges**\n",
    "\n",
    "* Speichere deinen Vornamen in einer Variablen.\n",
    "* Gib den ersten Buchstaben deines Vornamens aus.\n",
    "* Gib die ersten drei Buchstaben deines Vornamens aus.\n",
    "* Erzeuge eine Zahlenfolge (range), die die geraden Zahlen von 0 bis einschließlich der 10 enthält. Wandle die erzeugte Zahlenfolge in eine Liste um.\n",
    "* Ergänze diese Liste um die fehlenden ungeraden Zahlen und gib die Liste aus. Du kannst die ursprüngliche Liste entweder mittels der insert-Funktion auffüllen, oder auch mithilfe einer List Comprehension eine neue Liste erzeugen."
   ]
  },
  {
   "cell_type": "code",
   "execution_count": null,
   "id": "1de05a4d-c756-4203-8042-c7e90c6d02d4",
   "metadata": {},
   "outputs": [],
   "source": []
  },
  {
   "cell_type": "markdown",
   "id": "9c6cbf84-291b-4a5a-b978-ff7f7c6b03eb",
   "metadata": {},
   "source": [
    "**5. Logging**\n",
    "\n",
    "* Importiere die Logging-Bibliothek und schreibe fünf Loggingnachrichten (mit beliebigem Inhalt), je eine für jede Dringlichkeitsstufe. Führe den Code aus. Welche Ausgabe siehst du und warum?\n",
    "* Konfiguriere das Logging-Modul so, dass Nachrichten aller Dringlichkeitsstufen ausgegeben werden. Führe den Code erneut aus. Welche Ausgabe siehst du und warum? Wenn die Ausgabe nicht deinen Erwartungen entspricht, recherchiere [hier](https://docs.python.org/3/library/logging.html#logging.basicConfig).\n",
    "* Konfiguriere das Logging-Modul so, dass allen Nachrichten die aktuelle Zeit vorangestellt wird.\n",
    "* Konfiguriere das Logging-Modul so, dass alle Nachrichten in eine Datei ausgegeben werden.\n",
    "* Konfiguriere das Logging-Modul so, dass die Log-Datei bei wiederholtem Aufruf überschrieben wird."
   ]
  },
  {
   "cell_type": "code",
   "execution_count": null,
   "id": "75663331-1bd8-4fe0-b30f-ed81de35ab47",
   "metadata": {},
   "outputs": [],
   "source": []
  },
  {
   "cell_type": "markdown",
   "id": "c8ff123f-3dba-4c3f-8cdc-a83cd61e86a1",
   "metadata": {},
   "source": [
    "**6. Plotting**\n",
    "\n",
    "Verwende geeignete Funktionen aus der Matplotlib sowie NumPy, um eine Sinusfunktion im Bereich [-4,4] darzustellen. \n",
    "\n",
    "Tipp: Zur Erstellung der Funktionswerte kannst du die Funktionen [arange](https://numpy.org/doc/stable/reference/generated/numpy.arange.html) und [sin](https://numpy.org/doc/stable/reference/generated/numpy.sin.html) aus NumPy verwenden. Mittels arange kannst du Samples einer vorgegebenen Schrittweite im oben angegebenen Bereich generieren."
   ]
  },
  {
   "cell_type": "code",
   "execution_count": null,
   "id": "ded584fa-87cf-40d7-81d4-2ba7443a4b1c",
   "metadata": {},
   "outputs": [],
   "source": []
  },
  {
   "cell_type": "markdown",
   "id": "cbb2f6fe-16e1-47cb-bd0c-d6a0c22b057c",
   "metadata": {},
   "source": [
    "**7. NumPy Array**\n",
    "\n",
    "* Erzeuge zwei NumPy-Arrays mit den Integer-Zahlen von -3 bis 3 auf zwei Arten: \n",
    "    1. durch direkte Befüllung bei der Initialisierung\n",
    "    2. durch Erzeugung eines leeren Arrays mit [empty](https://numpy.org/doc/stable/reference/generated/numpy.empty.html) und der Befüllung mit Werten mittels range, einer for-Schleife und [append](https://numpy.org/doc/stable/reference/generated/numpy.append.html#numpy-append). \n",
    "* Implementiere dieselbe Funktionalität einmal durch Einbindung des gesamten NumPy-Moduls und einmal durch gezielte Einbindung der benötigten Funktionen.\n",
    "* Tipp: Schaue dir die Dokumentationen unter den gegebenen Links genau an. Mittels dieser Aufgabe sollst du u.a. das Lesen von Dokumentationen üben."
   ]
  },
  {
   "cell_type": "code",
   "execution_count": null,
   "id": "7b284064-a883-44fb-a2ce-b7054d2584f3",
   "metadata": {},
   "outputs": [],
   "source": []
  },
  {
   "cell_type": "markdown",
   "id": "e3dfcfef",
   "metadata": {},
   "source": [
    "**8. Dokumentation einer Funktion**\n",
    "\n",
    "* Schreibe eine Funktion my_exp, die zwei numerische Argumente a, b erwartet und die Ergebnisse a „hoch“ b und a „mal“ b zurückliefert. \n",
    "* Statte diese Funktion mit einem Hilfetext aus. \n",
    "* Rufe den Hilfetext ab.\n",
    "* Rufe die Funktion mit beliebigen Werten auf. Bestimme den Typ des Rückgabewertes."
   ]
  },
  {
   "cell_type": "code",
   "execution_count": null,
   "id": "b7c2437f-401d-4a60-8c6c-c15f1696c292",
   "metadata": {},
   "outputs": [],
   "source": []
  },
  {
   "cell_type": "markdown",
   "id": "e4f24f58",
   "metadata": {},
   "source": [
    "**9. Iteratoren**\n",
    "\n",
    "* Erzeuge eine Liste mit beliebigen Einträgen (z.B. Zahlen)\n",
    "* Gib alle Elemente der Liste aus:\n",
    "    1. Basierend auf einer for-Schleife\n",
    "    2. Basierend auf einer while-Schleife unter Verwendung der Funktionen [iter](https://docs.python.org/3.9/library/functions.html?highlight=next#iter) und [next](https://docs.python.org/3.9/library/functions.html?highlight=next#next)."
   ]
  },
  {
   "cell_type": "code",
   "execution_count": null,
   "id": "3ba6918f",
   "metadata": {},
   "outputs": [],
   "source": []
  },
  {
   "cell_type": "markdown",
   "id": "0641a3ca",
   "metadata": {},
   "source": [
    "**10. Collections**\n",
    "\n",
    "* Schreibe ein Programm, das ein Dictionary mit Angaben zu deiner Person erstellt (z.B. Vorname, Nachname, Haarfarbe) und die einzelnen Angaben mittels einer for-Schleife ausgibt.\n",
    "* Erweitere dein Programm, so dass mehrere Personen gespeichert und deren Angaben ausgegeben werden können. Tipp: Verwende hierzu eine verschachtelte Datenstruktur sowie verschachtelte for-Schleifen."
   ]
  },
  {
   "cell_type": "code",
   "execution_count": null,
   "id": "629c5e52-87af-47fb-97e7-8f3091cfc6c9",
   "metadata": {},
   "outputs": [],
   "source": []
  }
 ],
 "metadata": {
  "kernelspec": {
   "display_name": "Python 3 (ipykernel)",
   "language": "python",
   "name": "python3"
  },
  "language_info": {
   "codemirror_mode": {
    "name": "ipython",
    "version": 3
   },
   "file_extension": ".py",
   "mimetype": "text/x-python",
   "name": "python",
   "nbconvert_exporter": "python",
   "pygments_lexer": "ipython3",
   "version": "3.11.7"
  }
 },
 "nbformat": 4,
 "nbformat_minor": 5
}
