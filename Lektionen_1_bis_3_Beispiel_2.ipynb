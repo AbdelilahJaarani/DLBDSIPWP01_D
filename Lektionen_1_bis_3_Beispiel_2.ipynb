{
 "cells": [
  {
   "cell_type": "markdown",
   "id": "ad714107-716b-4590-b21c-79fed67de2d1",
   "metadata": {},
   "source": [
    "# Collections, bedingte Anweisungen, Schleifen, List Comprehensions\n",
    "## Verwalte den Python-Kurs\n",
    "Die Datei Lektionen_1_bis_3_Studierende.txt enthält Studierenden-Daten nach folgendem Schema: \\<Name\\>; \\<Studiengang\\>; \\<Semester\\>; \\<Hintergrund\\>. Der Name ist eindeutig. Der Hintergrund-Eintrag kann verschiedene kommaseparierte Informationen enthalten. Pro Zeile sind die Daten einer Person erfasst. Du kannst die Datei in einem Texteditor öffnen, um dir das Format und die Inhalte anzuschauen.\n",
    "## Aufgabe A\n",
    "Lies die Daten aus der Datei ein und speichere sie strukturiert (unter Verwendung geeigneter Collections, z.B. Dictionary und Liste) in einer Variablen `python_course`. \n",
    "\n",
    "Tipps: \n",
    "* Recherchiere [hier](https://docs.python.org/3/tutorial/inputoutput.html#methods-of-file-objects), wie du Dateien zeilenweise einlesen kannst. \n",
    "* Erinnere dich an die String-Funktion, mit der du einen String \"zerschneiden\" kannst."
   ]
  },
  {
   "cell_type": "code",
   "execution_count": null,
   "id": "77e71bbb-290d-4113-8664-b57b114b9b64",
   "metadata": {},
   "outputs": [],
   "source": [
    "python_course = [] #gesamter Kurs als Liste\n",
    "keys = (\"Name\", \"Studiengang\", \"Semester\", \"Hintergrund\") #Schlüssel als Tupel\n",
    "filename = \"Lektionen_1_bis_3_Studierende.txt\"\n",
    "\n",
    "with open(filename, \"r\", encoding=\"utf-8\") as file:\n",
    "    for line in file:\n",
    "        items = line.strip().split(\"; \") #strip entfernt das finale Newline\n",
    "        #jede Person als Dictionary\n",
    "        python_course.append({keys[0]:items[0], keys[1]:items[1], keys[2]:items[2], keys[3]:items[3]})\n",
    "print(python_course)"
   ]
  },
  {
   "cell_type": "markdown",
   "id": "6b45dc56-7d84-46d5-ae7c-a11d0395f8ef",
   "metadata": {},
   "source": [
    "## Aufgabe B\n",
    "* Gib die Teilnehmenden strukturiert (eine Person pro Zeile) aus\n",
    "* Berechne das durchschnittliche Semester aller Teilnehmenden und gib dieses aus"
   ]
  },
  {
   "cell_type": "code",
   "execution_count": null,
   "id": "10869b52-09c3-4209-ba22-abd26da0f206",
   "metadata": {},
   "outputs": [],
   "source": [
    "sum_semester = 0\n",
    "for person in python_course:\n",
    "    line = \"\"\n",
    "    for i in range(4):\n",
    "        line += keys[i]+\": \"+person[keys[i]]+\", \"\n",
    "    print(line)\n",
    "    sum_semester += int(person[keys[2]])\n",
    "print(\"\\nDas durchschnittliche Semester aller Teilnehmenden ist:\", sum_semester/len(python_course))"
   ]
  },
  {
   "cell_type": "markdown",
   "id": "c88a17c1-6d33-4962-8f74-08c6c15fc66b",
   "metadata": {},
   "source": [
    "## Aufgabe C\n",
    "* Erstelle eine Liste der Namen aller Erstsemester unter Verwendung einer List Comprehension und gib diese aus"
   ]
  },
  {
   "cell_type": "code",
   "execution_count": null,
   "id": "4577e710",
   "metadata": {},
   "outputs": [],
   "source": [
    "first_semester = [person[keys[0]] for person in python_course if int(person[keys[2]]) == 1]\n",
    "print(\"Die Namen der Studierenden im ersten Semester lauten:\", first_semester)"
   ]
  },
  {
   "cell_type": "markdown",
   "id": "444835a3-2b4d-4ca3-8771-19ac2efd24cc",
   "metadata": {
    "tags": []
   },
   "source": [
    "## Aufgabe D (Weiterführende Hausaufgabe)\n",
    "* Fordere die Eingabe eines Namens aus dem Python-Kurs (mittels input). \n",
    "* Schlage für diese Person andere Kursteilnehmende vor, mit denen sie sich vernetzen kann. Die Vorschläge sollen aufgrund von Gemeinsamkeiten generiert werden.\n",
    "\n",
    "**Mögliche Vorgehensweise:**\n",
    "* Mögliche Gemeinsamkeiten könnten der Studiengang oder Hintergrundinformationen sein.\n",
    "* Um eine effiziente Implementierung zu erhalten (so dass nicht alle Relationen bei jeder Anfrage neu berechnet werden müssen), erstelle zunächst zwei Indizes als Dictionaries (dies muss nur einmal durchgeführt werden): \n",
    "    1) Schlüssel: Name, Wert: Liste möglicher Gemeinsamkeiten, z.B. in der Variablen `communalities_by_name` vom Typ [defaultdict](https://docs.python.org/3/library/collections.html#collections.defaultdict) \n",
    "    2) Schlüssel: mögliche Gemeinsamkeit, Wert: Liste der Namen, die diese aufweisen, z.B. in der Variablen `names_by_communality` vom Typ [defaultdict](https://docs.python.org/3/library/collections.html#collections.defaultdict) "
   ]
  },
  {
   "cell_type": "code",
   "execution_count": null,
   "id": "107ad436-bd1f-4e5a-b9cd-6556e0d56eb5",
   "metadata": {
    "tags": []
   },
   "outputs": [],
   "source": [
    "# Vorbereitung: Einmalige Erstellung der Indizes\n",
    "# defaultdict entspricht einem Dictionary, mit dem Unterschied, dass es einen definierbaren Default-Wert liefert, \n",
    "# falls ein angefragter Schlüssel nicht vorhanden ist\n",
    "from collections import defaultdict \n",
    "\n",
    "# Erstelle zunächst die Indizes: \n",
    "# 1) Generiere für jede Person eine Liste möglicher Gemeinsamkeiten aus den Angaben für diese Person und speichere\n",
    "#    dies in einem defaultdict\n",
    "communalities_by_name = defaultdict(list) # liefert eine leere Liste, falls angefragter Schlüssel nicht vorhanden\n",
    "for person in python_course:\n",
    "    # Sammle alle möglichen Gemeinsamkeiten zu der aktuellen Person\n",
    "    # Der Name der Person ist der Schlüssel, der Wert die Liste der möglichen Gemeinsamkeiten\n",
    "    # casefold, um robust ggü. verschiedenen Schreibweisen zu sein\n",
    "    communalities_by_name[person[keys[0]]].append(person[keys[1]].casefold()) # Studiengang\n",
    "    background = person[keys[3]].casefold(); # Hintergrund, kommaseparierte Informationen\n",
    "    backgrounds = background.split(\",\")\n",
    "    for item in backgrounds:\n",
    "        communalities_by_name[person[keys[0]]].append(item.strip()) # jede Information aus dem Hintergrund\n",
    "    #print(communalities_by_name[person[keys[0]]])\n",
    "\n",
    "# 2) Generiere für jede mögliche Gemeinsamkeit eine Liste der Personen, die diese aufweisen\n",
    "names_by_communality = defaultdict(list)\n",
    "for name in communalities_by_name:\n",
    "    for communality in communalities_by_name[name]:\n",
    "        names_by_communality[communality].append(name)\n",
    "    #print(communality, names_by_communality[communality])\n",
    "    \n",
    "print(communalities_by_name)\n",
    "print(names_by_communality)"
   ]
  },
  {
   "cell_type": "markdown",
   "id": "6601d420-e2df-4b6a-94b5-e5ba00c18b6a",
   "metadata": {},
   "source": [
    "**Mögliche Vorgehensweise (cont'd):**\n",
    "* Fordere die Eingabe eines Namens und prüfe, ob dieser Name bekannt ist\n",
    "* Wenn ja, verwende die aufgebauten Indizes, um Namen zu finden, mit denen die eingegebene Person Gemeinsamkeiten hat, und speichere diese jeweils ab. Dafür kann ebenfalls ein defaultdict verwendet werden.\n",
    "* Gib alle gefundenen Namen sowie die Gemeinsamkeiten aus"
   ]
  },
  {
   "cell_type": "code",
   "execution_count": null,
   "id": "6c89c6bb-5dd7-419a-8212-86af8e61c09b",
   "metadata": {
    "tags": []
   },
   "outputs": [],
   "source": [
    "# Anfrage und Ausgabe\n",
    "# Dieser Block kann mehrfach mit unterschiedlichen Namen ausgeführt werden, \n",
    "# wobei die Indizes nur einmal berechnet werden\n",
    "query_name = \"\"\n",
    "while(True):\n",
    "    query_name = input(\"Für wen sollen Vernetzungsmöglichkeiten gesucht werden? Bitte geben Sie einen Namen ein:\")  \n",
    "    if query_name in communalities_by_name:\n",
    "        break;\n",
    "    else:\n",
    "        print(\"Name\", query_name, \"nicht bekannt\")\n",
    "# Hier ist klar, dass der angefragte Name bekannt ist\n",
    "\n",
    "# Das folgende defaultdict wird nur für die angefragte Person aufgebaut\n",
    "# Schlüssel: Name einer anderen Person, Wert: Liste der Gemeinsamkeiten zwischen dieser und der angefragten Person\n",
    "communalities_for_query_name = defaultdict(list)\n",
    "\n",
    "# Für jede mögliche Gemeinsamkeit der angefragten Person\n",
    "for communality in communalities_by_name[query_name]:\n",
    "    # Für jeden Namen, der diese Gemeinsamkeit auch aufweist\n",
    "    for name in names_by_communality[communality]:\n",
    "        if name != query_name: # sofern es nicht der Name der angefragten Person selbst ist\n",
    "            #print(query_name, name, communality)\n",
    "            communalities_for_query_name[name].append(communality) # speichere dies\n",
    "\n",
    "if communalities_for_query_name: # falls nicht leer\n",
    "    print(\"Mit folgenden Personen hat\",query_name,\"Gemeinsamkeiten:\")\n",
    "    for name in communalities_for_query_name:\n",
    "        print(\"\\tName:\", name, \", Gemeinsamkeit(en):\", communalities_for_query_name[name])"
   ]
  },
  {
   "cell_type": "code",
   "execution_count": null,
   "id": "4231f4a5-1d1e-44fb-a97f-a1094006bf88",
   "metadata": {},
   "outputs": [],
   "source": []
  }
 ],
 "metadata": {
  "kernelspec": {
   "display_name": "Python 3 (ipykernel)",
   "language": "python",
   "name": "python3"
  },
  "language_info": {
   "codemirror_mode": {
    "name": "ipython",
    "version": 3
   },
   "file_extension": ".py",
   "mimetype": "text/x-python",
   "name": "python",
   "nbconvert_exporter": "python",
   "pygments_lexer": "ipython3",
   "version": "3.11.4"
  }
 },
 "nbformat": 4,
 "nbformat_minor": 5
}
