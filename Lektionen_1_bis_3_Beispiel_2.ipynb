{
 "cells": [
  {
   "cell_type": "markdown",
   "id": "ad714107-716b-4590-b21c-79fed67de2d1",
   "metadata": {},
   "source": [
    "# Collections, bedingte Anweisungen, Schleifen, List Comprehensions\n",
    "## Verwalte den Python-Kurs\n",
    "Die Datei Lektionen_1_bis_3_Studierende.txt enthält Studierenden-Daten nach folgendem Schema: \\<Name\\>; \\<Studiengang\\>; \\<Semester\\>; \\<Hintergrund\\>. Der Name ist eindeutig. Der Hintergrund-Eintrag kann verschiedene kommaseparierte Informationen enthalten. Pro Zeile sind die Daten einer Person erfasst. Du kannst die Datei in einem Texteditor öffnen, um dir das Format und die Inhalte anzuschauen.\n",
    "## Aufgabe A\n",
    "Lies die Daten aus der Datei ein und speichere sie strukturiert (unter Verwendung geeigneter Collections, z.B. Dictionary und Liste) in einer Variablen `python_course`. \n",
    "\n",
    "Tipps: \n",
    "* Recherchiere [hier](https://docs.python.org/3/tutorial/inputoutput.html#methods-of-file-objects), wie du Dateien zeilenweise einlesen kannst. \n",
    "* Erinnere dich an die String-Funktion, mit der du einen String \"zerschneiden\" kannst."
   ]
  },
  {
   "cell_type": "code",
   "execution_count": null,
   "id": "77e71bbb-290d-4113-8664-b57b114b9b64",
   "metadata": {},
   "outputs": [],
   "source": [
    "python_course = [] #gesamter Kurs als Liste\n",
    "keys = (\"Name\", \"Studiengang\", \"Semester\", \"Hintergrund\") #Schlüssel als Tupel\n",
    "filename = \"Lektionen_1_bis_3_Studierende.txt\"\n",
    "\n",
    "with open(filename, \"r\", encoding=\"utf-8\") as file:\n",
    "    for line in file:\n",
    "        items = line.strip().split(\"; \") #strip entfernt das finale Newline\n",
    "        #jede Person als Dictionary\n",
    "        python_course.append({keys[0]:items[0], keys[1]:items[1], keys[2]:items[2], keys[3]:items[3]})\n",
    "print(python_course)"
   ]
  },
  {
   "cell_type": "markdown",
   "id": "6b45dc56-7d84-46d5-ae7c-a11d0395f8ef",
   "metadata": {},
   "source": [
    "## Aufgabe B\n",
    "* Gib die Teilnehmenden strukturiert (eine Person pro Zeile) aus\n",
    "* Berechne das durchschnittliche Semester aller Teilnehmenden und gib dieses aus"
   ]
  },
  {
   "cell_type": "code",
   "execution_count": null,
   "id": "10869b52-09c3-4209-ba22-abd26da0f206",
   "metadata": {},
   "outputs": [],
   "source": [
    "sum_semester = 0\n",
    "for person in python_course:\n",
    "    line = \"\"\n",
    "    for i in range(4):\n",
    "        line += keys[i]+\": \"+person[keys[i]]+\", \"\n",
    "    print(line)\n",
    "    sum_semester += int(person[keys[2]])\n",
    "print(\"\\nDas durchschnittliche Semester aller Teilnehmenden ist:\", sum_semester/len(python_course))"
   ]
  },
  {
   "cell_type": "markdown",
   "id": "c88a17c1-6d33-4962-8f74-08c6c15fc66b",
   "metadata": {},
   "source": [
    "## Aufgabe C\n",
    "* Erstelle eine Liste der Namen aller Erstsemester unter Verwendung einer List Comprehension und gib diese aus"
   ]
  },
  {
   "cell_type": "code",
   "execution_count": null,
   "id": "4577e710",
   "metadata": {},
   "outputs": [],
   "source": [
    "first_semester = [person[keys[0]] for person in python_course if int(person[keys[2]]) == 1]\n",
    "print(\"Die Namen der Studierenden im ersten Semester lauten:\", first_semester)"
   ]
  }
 ],
 "metadata": {
  "kernelspec": {
   "display_name": "Python 3 (ipykernel)",
   "language": "python",
   "name": "python3"
  },
  "language_info": {
   "codemirror_mode": {
    "name": "ipython",
    "version": 3
   },
   "file_extension": ".py",
   "mimetype": "text/x-python",
   "name": "python",
   "nbconvert_exporter": "python",
   "pygments_lexer": "ipython3",
   "version": "3.11.4"
  }
 },
 "nbformat": 4,
 "nbformat_minor": 5
}
