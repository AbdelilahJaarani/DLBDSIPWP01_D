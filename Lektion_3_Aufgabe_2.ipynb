{
 "cells": [
  {
   "cell_type": "markdown",
   "id": "20453472-f84e-4f6b-a6a4-57f4dc5bcd14",
   "metadata": {},
   "source": [
    "# Schleifen, bedingte Anweisungen und Comprehensions\n",
    "## Aufgabe A (for-Schleife, if-Anweisung)\n",
    "Erzeuge eine Liste der Zahlen von 0 bis 10. Iteriere über diese Liste und füge die Quadrate der geraden Zahlen in ein Set ein. Gib das Set aus."
   ]
  },
  {
   "cell_type": "code",
   "execution_count": 3,
   "id": "5333a345-79a4-42c9-afd7-aec5b039e24a",
   "metadata": {
    "tags": []
   },
   "outputs": [
    {
     "name": "stdout",
     "output_type": "stream",
     "text": [
      "[0, 4, 16, 36, 64, 100]\n"
     ]
    }
   ],
   "source": [
    "num = [0,1,2,3,4,5,6,7,8,9,10]\n",
    "x = set ()\n",
    "for number in num:\n",
    "    if number % 2 == 0:\n",
    "        x.add(number**2)\n",
    "print(sorted(x))"
   ]
  },
  {
   "cell_type": "markdown",
   "id": "0587d74e-b357-472f-915d-7ce7dae602a5",
   "metadata": {},
   "source": [
    "## Aufgabe B (Comprehension)\n",
    "Löse Aufgabe A mittels einer Comprehension. Füge jedoch die geraden Zahlen selbst, nicht die Quadrate, in das Set ein."
   ]
  },
  {
   "cell_type": "code",
   "execution_count": 5,
   "id": "c4f7dfa2-7d8a-4af4-9859-cb14c17d51ac",
   "metadata": {
    "tags": []
   },
   "outputs": [
    {
     "name": "stdout",
     "output_type": "stream",
     "text": [
      "[1, 9, 25, 49, 81]\n"
     ]
    }
   ],
   "source": [
    "num = [0,1,2,3,4,5,6,7,8,9,10]\n",
    "\n",
    "x = set(number**2 for number in num if number % 2 != 0 )\n",
    "print (sorted(x))"
   ]
  },
  {
   "cell_type": "markdown",
   "id": "3015eb7e-5a56-4c5e-baec-44afafb5d091",
   "metadata": {},
   "source": [
    "## Aufgabe C (while-Schleife, if-Anweisung)\n",
    "Schreibe ein Programm, bei dem zwei Variablen a, b mittels einer Eingabeaufforderung mit Ganzzahlen initialisiert werden. Stelle dabei sicher, dass die Zahlen nicht gleich sind. Gib die größere Zahl aus."
   ]
  },
  {
   "cell_type": "code",
   "execution_count": 8,
   "id": "416efb61-140c-41da-b934-ca6803c99073",
   "metadata": {
    "tags": []
   },
   "outputs": [
    {
     "name": "stdout",
     "output_type": "stream",
     "text": [
      "b = 2 higher than a = 1\n"
     ]
    }
   ],
   "source": [
    "SameNumber = True\n",
    "while SameNumber:\n",
    "    a = int(input(\"Give the number for a\"))\n",
    "    b = int(input(\"Give the number for b\"))\n",
    "    if a != b:\n",
    "        SameNumber = False\n",
    "if a > b:\n",
    "    print(f\"a = {a} higher than b = {b}\")\n",
    "else:\n",
    "    print(f\"b = {b} higher than a = {a}\")\n",
    "\n"
   ]
  },
  {
   "cell_type": "markdown",
   "id": "1124316c-b82b-4ef0-950a-fa42946699c3",
   "metadata": {},
   "source": [
    "## Aufgabe D (Comprehension mit Strings)\n",
    "Gegeben sei eine Liste mit Vornamen. Verwende nun zwei List Comprehensions, um zwei weitere Listen zu erzeugen, eine mit allen Vornamen, die weniger als 6 Buchstaben enthalten, und eine mit allen Vornamen, die 6 oder mehr Buchstaben enthalten. Bei den kurzen Vornamen, hänge “ (short)” an, bei den langen, hänge “ (long)” an. Gib die Listen aus."
   ]
  },
  {
   "cell_type": "code",
   "execution_count": 9,
   "id": "bdbf5708-b887-4d41-8461-b186b3bddce1",
   "metadata": {},
   "outputs": [],
   "source": [
    "names = [\"Bernd\",\"Martina\",\"Thorsten\",\"Franka\",\"Luise\"]"
   ]
  },
  {
   "cell_type": "code",
   "execution_count": 11,
   "id": "feb363dd-f7b8-4641-af05-dd7d7fa1ce99",
   "metadata": {},
   "outputs": [
    {
     "name": "stdout",
     "output_type": "stream",
     "text": [
      "['(short) Bernd', '(short) Luise']\n",
      "['(long) Martina', '(long) Thorsten', '(long) Franka']\n"
     ]
    }
   ],
   "source": [
    "listNameUnderSix = [\"(short) \" + name for name in names if len(name)<6]\n",
    "print(listNameUnderSix)\n",
    "\n",
    "listNameOverSix = [\"(long) \" + name for name in names if len(name)>=6]\n",
    "print(listNameOverSix)"
   ]
  }
 ],
 "metadata": {
  "kernelspec": {
   "display_name": "Python 3 (ipykernel)",
   "language": "python",
   "name": "python3"
  },
  "language_info": {
   "codemirror_mode": {
    "name": "ipython",
    "version": 3
   },
   "file_extension": ".py",
   "mimetype": "text/x-python",
   "name": "python",
   "nbconvert_exporter": "python",
   "pygments_lexer": "ipython3",
   "version": "3.11.4"
  }
 },
 "nbformat": 4,
 "nbformat_minor": 5
}
