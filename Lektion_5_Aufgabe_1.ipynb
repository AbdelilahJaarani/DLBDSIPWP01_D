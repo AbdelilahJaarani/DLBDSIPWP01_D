{
 "cells": [
  {
   "cell_type": "markdown",
   "id": "1a8a5c92",
   "metadata": {},
   "source": [
    "# Fehlersuche\n",
    "## Aufgabe\n",
    "Die Datei `Lektion_5_Daten_A.txt` enthält Personendaten nach dem Format: \\<Name\\> \\<Alter\\> \\<Größe\\> \\<Gewicht\\>.\n",
    "Diese sollen durch das folgende Programm bearbeitet werden. Das Programm ist jedoch fehlerbehaftet.\n",
    "Verschaffe dir zunächst einen Überblick darüber, was das Programm tun soll.\n",
    "Verbessere dann das Programm, indem du alle Fehler korrigierst bzw. behandelst. Führe dazu das Programm mehrfach aus und analysiere die Fehlermeldungen und Ausgaben. Verwende Logging, um bei der Fehlersuche hilfreiche Ausgaben einzubauen. \n",
    "\n",
    "Wenn das Programm die erwarteten Ausgaben liefert, teste auch die Datei `Lektion_5_Daten_B.txt` und füge ggf. weitere Verbesserungen ein."
   ]
  },
  {
   "cell_type": "code",
   "execution_count": 11,
   "id": "b9d1d288",
   "metadata": {},
   "outputs": [
    {
     "name": "stdout",
     "output_type": "stream",
     "text": [
      "Peters BMI Wert ist: 22\n",
      "Rosies BMI Wert ist: nicht korrekt, da ein Wert 0 entspricht\n",
      "Harrys BMI Wert ist: 25\n"
     ]
    }
   ],
   "source": [
    "def calc_bmi(weight, height):\n",
    "    if weight == 0 or height == 0:\n",
    "        error = \"nicht korrekt, da ein Wert 0 entspricht\"\n",
    "        return error\n",
    "    return int((weight / height**2))\n",
    "\n",
    "filename = input(\"Bitte geben Sie einen Dateinamen ein: \")\n",
    "file = open(filename,\"r\")\n",
    "\n",
    "for line in file:\n",
    "    line = line.strip()\n",
    "    items = line.split(\" \")\n",
    "    bmi = calc_bmi(float(items[3]), float(items[2]))\n",
    "    print(str(items[0]) + \"s BMI Wert ist: \"+ str(bmi))\n",
    "file.close()"
   ]
  }
 ],
 "metadata": {
  "kernelspec": {
   "display_name": "Python 3 (ipykernel)",
   "language": "python",
   "name": "python3"
  },
  "language_info": {
   "codemirror_mode": {
    "name": "ipython",
    "version": 3
   },
   "file_extension": ".py",
   "mimetype": "text/x-python",
   "name": "python",
   "nbconvert_exporter": "python",
   "pygments_lexer": "ipython3",
   "version": "3.11.4"
  }
 },
 "nbformat": 4,
 "nbformat_minor": 5
}
