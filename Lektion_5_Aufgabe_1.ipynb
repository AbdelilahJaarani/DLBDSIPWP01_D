{
 "cells": [
  {
   "cell_type": "markdown",
   "id": "1a8a5c92",
   "metadata": {},
   "source": [
    "# Fehlersuche\n",
    "## Aufgabe\n",
    "Die Datei `Lektion_5_Daten_A.txt` enthält Personendaten nach dem Format: \\<Name\\> \\<Alter\\> \\<Größe\\> \\<Gewicht\\>.\n",
    "Diese sollen durch das folgende Programm bearbeitet werden. Das Programm ist jedoch fehlerbehaftet.\n",
    "Verschaffe dir zunächst einen Überblick darüber, was das Programm tun soll.\n",
    "Verbessere dann das Programm, indem du alle Fehler korrigierst bzw. behandelst. Führe dazu das Programm mehrfach aus und analysiere die Fehlermeldungen und Ausgaben. Verwende Logging, um bei der Fehlersuche hilfreiche Ausgaben einzubauen. \n",
    "\n",
    "Wenn das Programm die erwarteten Ausgaben liefert, teste auch die Datei `Lektion_5_Daten_B.txt` und füge ggf. weitere Verbesserungen ein."
   ]
  },
  {
   "cell_type": "code",
   "execution_count": null,
   "id": "b9d1d288",
   "metadata": {},
   "outputs": [],
   "source": [
    "def calc_bmi(weight, height):\n",
    "    return weight / height**2\n",
    "\n",
    "filename = input(\"Bitte geben Sie einen Dateinamen ein: \")\n",
    "file = open(filename,\"r\")\n",
    "\n",
    "for line in file\n",
    "    line = line.strip()\n",
    "    items = line.split(\"  \")\n",
    "    calc_bmi(items[2], items[3])\n",
    "    print(items[1], \"hat einen BMI von ungefähr:\", int(bmi))\n",
    "file.close()"
   ]
  }
 ],
 "metadata": {
  "kernelspec": {
   "display_name": "Python 3 (ipykernel)",
   "language": "python",
   "name": "python3"
  },
  "language_info": {
   "codemirror_mode": {
    "name": "ipython",
    "version": 3
   },
   "file_extension": ".py",
   "mimetype": "text/x-python",
   "name": "python",
   "nbconvert_exporter": "python",
   "pygments_lexer": "ipython3",
   "version": "3.11.4"
  }
 },
 "nbformat": 4,
 "nbformat_minor": 5
}
