{
 "cells": [
  {
   "cell_type": "markdown",
   "id": "83a290e9-1456-4bdd-8f5c-d77d888d1fe1",
   "metadata": {},
   "source": [
    "# Bedingte Anweisungen, Schleifen\n",
    "## Aufgabe - Programmiere ein Spiel\n",
    "* Der vorgegebene Programmcode generiert zufällig eine Zahl zwischen 1 und 100. \n",
    "* Lasse die spielende Person diese geheime Zahl raten (mittels einer Eingabeaufforderung)\n",
    "* Wenn die Zahl erraten wurde, gib \"Bingo!\" aus und beende das Spiel.\n",
    "* Gib der spielenden Person Hinweise \"höher\" oder \"niedriger\" zum aktuellen Tipp.\n",
    "* Die spielende Person hat zehn Chancen.\n",
    "* Gelingt es nicht, innerhalb der erlaubten Versuche die richtige Zahl zu erraten, gib \"Oops, game over!\" aus und teile die geheime Zahl mit.\n",
    "\n",
    "Anmerkung: Es wird in diesem Beispiel auf eine Behandlung von Eingabefehlern verzichtet. Die Fehlerbehandlung wird in Lektion 5 eingeführt."
   ]
  },
  {
   "cell_type": "code",
   "execution_count": null,
   "id": "61fce68a",
   "metadata": {},
   "outputs": [],
   "source": [
    "import random\n",
    "my_secret_number = random.randint(1,100) #https://docs.python.org/3/library/random.html#functions-for-integers\n",
    "counter = 0\n",
    "while True:\n",
    "    counter += 1\n",
    "    if counter == 10:\n",
    "        print(\"Oops, game over. Die geheime Zahl war\", my_secret_number)\n",
    "        break\n",
    "    user_number = int(input(\"Errate die geheime Zahl: \"))\n",
    "    if user_number == my_secret_number:\n",
    "        print(\"Bingo!\")\n",
    "        break\n",
    "    elif user_number > my_secret_number:\n",
    "        print(\"Kleiner\")\n",
    "    else:\n",
    "        print(\"Höher\")"
   ]
  },
  {
   "cell_type": "code",
   "execution_count": null,
   "id": "fa83c176-14c3-43cd-94e3-6fa43fc593ae",
   "metadata": {
    "tags": []
   },
   "outputs": [],
   "source": [
    "### Alternative Implementierung, bei der die Bedingung direkt in der while-Schleife formuliert ist. Es könnte auch eine for-Schleife verwendet werden.\n",
    "\n",
    "import random\n",
    "my_secret_number = random.randint(1,100) #https://docs.python.org/3/library/random.html#functions-for-integers\n",
    "counter = 10\n",
    "while counter > 0:\n",
    "    user_number = int(input(\"Errate die geheime Zahl: \"))\n",
    "    if user_number == my_secret_number:\n",
    "        print(\"Bingo!\")\n",
    "        break\n",
    "    elif user_number > my_secret_number:\n",
    "        print(\"Kleiner\")\n",
    "    else:\n",
    "        print(\"Höher\")\n",
    "    counter -= 1\n",
    "if counter == 0:\n",
    "    print(\"Oops, game over. Die geheime Zahl war\", my_secret_number)"
   ]
  }
 ],
 "metadata": {
  "kernelspec": {
   "display_name": "Python 3 (ipykernel)",
   "language": "python",
   "name": "python3"
  },
  "language_info": {
   "codemirror_mode": {
    "name": "ipython",
    "version": 3
   },
   "file_extension": ".py",
   "mimetype": "text/x-python",
   "name": "python",
   "nbconvert_exporter": "python",
   "pygments_lexer": "ipython3",
   "version": "3.11.7"
  }
 },
 "nbformat": 4,
 "nbformat_minor": 5
}
