{
 "cells": [
  {
   "cell_type": "markdown",
   "id": "9c396861",
   "metadata": {},
   "source": [
    "# Pandas, NumPy, SciPy, Matplotlib\n",
    "Orientiere dich gerne an den entsprechenden Code-Beispielen im Skript (Lernzyklus 6.4) und schaue dir ggf. zusätzlich die Dokumentationen der jeweiligen Module an (z.B. zugreifbar über die JupyterLab Hilfe) \n",
    "## Eindimensionale Funktion\n",
    "1. Lies die Datei Lektion_6_Daten.csv in einen DataFrame ein. Die Datei enthält x- und y-Werte mit f(x)=y (d.h. y enthält die Funktionswerte für x)\n",
    "2. Gib die ersten fünf Zeilen des DataFrame aus. Gib dann die ersten zehn Zeilen aus.\n",
    "3. Extrahiere die x- und y-Werte aus dem DataFrame. Dazu kann die Funktion [loc](https://pandas.pydata.org/pandas-docs/stable/reference/api/pandas.DataFrame.loc.html) verwendet werden.\n",
    "3. Interpoliere die Daten mit einer geeigneten Schrittweite.\n",
    "4. Plotte die eingelesenen und interpolierten Daten.\n",
    "\n",
    "Denke daran, deinen Programmcode zu dokumentieren"
   ]
  },
  {
   "cell_type": "code",
   "execution_count": 3,
   "id": "81fbf0f4",
   "metadata": {
    "scrolled": true,
    "tags": []
   },
   "outputs": [
    {
     "name": "stdout",
     "output_type": "stream",
     "text": [
      "     x         y\n",
      "0 -2.0 -0.909297\n",
      "1 -1.6 -0.999574\n",
      "2 -1.2 -0.932039\n",
      "3 -0.8 -0.717356\n",
      "4 -0.4 -0.389418\n",
      "              x             y\n",
      "0 -2.000000e+00 -9.092974e-01\n",
      "1 -1.600000e+00 -9.995736e-01\n",
      "2 -1.200000e+00 -9.320391e-01\n",
      "3 -8.000000e-01 -7.173561e-01\n",
      "4 -4.000000e-01 -3.894183e-01\n",
      "5 -4.440892e-16 -4.440892e-16\n",
      "6  4.000000e-01  3.894183e-01\n",
      "7  8.000000e-01  7.173561e-01\n",
      "8  1.200000e+00  9.320391e-01\n",
      "9  1.600000e+00  9.995736e-01\n"
     ]
    },
    {
     "data": {
      "image/png": "[encoded data removed]",
      "text/plain": [
       "<Figure size 600x300 with 1 Axes>"
      ]
     },
     "metadata": {},
     "output_type": "display_data"
    }
   ],
   "source": [
    "import pandas as pd\n",
    "from matplotlib import pyplot as plt #pyplot ist ein Modul des Pakets Matplotlib\n",
    "from scipy import interpolate #interpolate ist ein Modul des Pakets Scipy (nicht eine Funktion)\n",
    "import numpy as np\n",
    "\n",
    "# Einlesen der Daten-Samples x,y, wobei f(x)=y\n",
    "data = pd.read_csv(\"Lektion_6_Daten.csv\")\n",
    "\n",
    "print(data.head()) # Standardargument des Zeilen-Parameters ist 5\n",
    "print(data.head(10))\n",
    "\n",
    "\n",
    "# Extrahiere die x- und y-Werte aus dem DataFrame. Die Spalten werden nach den Labels gewählt.\n",
    "# Die Doppelpunkte zeigen an, dass alle Zeilen extrahiert werden sollen\n",
    "x = data.loc[:,\"x\"]\n",
    "y = data.loc[:,\"y\"]\n",
    "\n",
    "# Interpoliere die Daten\n",
    "# Generiere die Interpolationsfunktion aus den vorhandenen Daten und der Angabe der Interpolationsart (hier: cubic spline)\n",
    "interpolation_func = interpolate.interp1d(x, y, \"cubic\")\n",
    "# Generiere \"dichte\" Stützstellen (x-Werte) für die Interpolation, also Werte zwischen den eingelesenen Samples (Schrittweite 0.1)\n",
    "x_interp = np.arange(np.min(x), np.max(x), 0.1)\n",
    "# Berechne die interpolierten Funktionswerte an den Stützstellen\n",
    "y_interp = interpolation_func(x_interp)\n",
    "\n",
    "# Plotte die Daten\n",
    "fig, ax = plt.subplots()\n",
    "# Interpolierte Werte und Samples aus der Datei werden mit unterschiedlichen Farben/Zeichen in einem Plot dargestellt\n",
    "ax.plot(x_interp, y_interp, \"*r\", x, y ,\"*b\")\n",
    "plt.xlabel(\"x\")\n",
    "plt.ylabel(\"y\")\n",
    "# Die Reihenfolge der Labels in der Legende muss der Reihenfolge der Argumente der Plot-Funktion entsprechen\n",
    "plt.legend([\"Interpolated values\", \"Sparse samples\"])\n",
    "# Damit der Plot komplett sichtbar ist\n",
    "fig.set_size_inches(6,3)\n",
    "# Diese Funktion wird benötigt, damit der Plot tatsächlich angezeigt wird\n",
    "plt.show()"
   ]
  },
  {
   "cell_type": "markdown",
   "id": "8c3ee665-560c-4773-9c80-7ac76041d1bd",
   "metadata": {},
   "source": [
    "Der folgende Code wurde zur Erstellung der CSV-Datei verwendet"
   ]
  },
  {
   "cell_type": "code",
   "execution_count": 15,
   "id": "596ed17c",
   "metadata": {},
   "outputs": [],
   "source": [
    "import numpy\n",
    "import pandas\n",
    "x = numpy.arange(-2,2.4,0.4)\n",
    "y = numpy.sin(x)\n",
    "df = pandas.DataFrame({\"x\":x, \"y\":y})\n",
    "# index=False verhindert, dass eine Indexspalte in die CSV-Datei geschrieben wird\n",
    "df.to_csv(\"out.csv\", index=False)"
   ]
  }
 ],
 "metadata": {
  "kernelspec": {
   "display_name": "Python 3 (ipykernel)",
   "language": "python",
   "name": "python3"
  },
  "language_info": {
   "codemirror_mode": {
    "name": "ipython",
    "version": 3
   },
   "file_extension": ".py",
   "mimetype": "text/x-python",
   "name": "python",
   "nbconvert_exporter": "python",
   "pygments_lexer": "ipython3",
   "version": "3.11.4"
  }
 },
 "nbformat": 4,
 "nbformat_minor": 5
}
