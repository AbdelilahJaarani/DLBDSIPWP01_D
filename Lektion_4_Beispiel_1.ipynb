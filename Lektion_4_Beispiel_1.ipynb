{
 "cells": [
  {
   "cell_type": "markdown",
   "id": "58e182df-51b5-4959-ae39-44d2593ea6e1",
   "metadata": {},
   "source": [
    "# Definition und Aufruf von Funktionen\n",
    "1. Schreibe eine Funktion `concat`, die zwei Strings als Argumente erwartet, diese mit einem Leerzeichen dazwischen verkettet und den Ergebnis-String auf dem Bildschirm ausgibt. Rufe die Funktion mit deinem Vornamen und deinem Nachnamen auf."
   ]
  },
  {
   "cell_type": "code",
   "execution_count": null,
   "id": "ffe68209-02ab-4ce2-9e95-52a02fb8a26e",
   "metadata": {},
   "outputs": [],
   "source": [
    "def concat(str1, str2):\n",
    "    print(str1+\" \"+str2)\n",
    "concat(\"Gabriele\", \"Bleser-Taetz\")"
   ]
  },
  {
   "cell_type": "markdown",
   "id": "f8027767-df6f-4f00-ac83-e70e22ead8ea",
   "metadata": {},
   "source": [
    "2. Verändere die Funktion so, dass der Ergebnis-String von der Funktion zurückgegeben wird. Rufe die Funktion mit deinem Vornamen und deinem Nachnamen auf und gib den Rückgabewert aus."
   ]
  },
  {
   "cell_type": "code",
   "execution_count": null,
   "id": "67d18aee-1f4e-4489-879e-59d9ef1133b2",
   "metadata": {
    "tags": []
   },
   "outputs": [],
   "source": [
    "def concat(str1, str2):\n",
    "    return (str1+\" \"+str2)\n",
    "result = concat(\"Gabriele\", \"Bleser-Taetz\")\n",
    "print(result)\n",
    "# oder kürzer\n",
    "# print(concat(\"Gabriele\", \"Bleser-Taetz\"))"
   ]
  },
  {
   "cell_type": "markdown",
   "id": "680d78e4-8099-429a-9af6-d7a03c407516",
   "metadata": {},
   "source": [
    "3. Verändere die Funktion so, dass neben dem Ergebnis-String auch die Längen der beiden Funktionsargumente zurückgegeben werden. Rufe die Funktion mit deinem Vornamen und deinem Nachnamen auf und gib den Rückgabewert aus. Von welchem Typ ist der Rückgabewert?"
   ]
  },
  {
   "cell_type": "code",
   "execution_count": 1,
   "id": "a446c12d-09e7-4b99-8694-ee7fa2ad4bbd",
   "metadata": {
    "tags": []
   },
   "outputs": [
    {
     "name": "stdout",
     "output_type": "stream",
     "text": [
      "('Gabriele Bleser-Taetz', 8, 12)\n",
      "Gabriele Bleser-Taetz 8 12\n",
      "<class 'tuple'>\n"
     ]
    }
   ],
   "source": [
    "def concat(str1, str2):\n",
    "    return (str1+\" \"+str2), len(str1), len(str2)\n",
    "result = concat(\"Gabriele\", \"Bleser-Taetz\")\n",
    "print(result)\n",
    "print(result[0], result[1], result[2])\n",
    "print(type(result))\n",
    "# oder kürzer\n",
    "# print(concat(\"Gabriele\", \"Bleser-Taetz\"))\n",
    "# print(type(concat(\"Gabriele\", \"Bleser-Taetz\")))"
   ]
  },
  {
   "cell_type": "markdown",
   "id": "cbf5f99f-28ce-4d22-ae6f-ee5b5fde1950",
   "metadata": {},
   "source": [
    "4. Erweitere die Funktion so, dass der erste Parameter standardmäßig \"Vorname\", der zweite \"Nachname\" lautet. Rufe die Funktion zunächst mit deinem Vor- und Nachnamen auf. Rufe die Funktion dann nur mit deinem Vornamen und nur mit deinem Nachnamen auf, so dass für den jeweils anderen Parameter das Standardargument verwendet wird. Gib die Ergebnisse jeweils aus."
   ]
  },
  {
   "cell_type": "code",
   "execution_count": 5,
   "id": "2f1f830e-f7f6-44c3-b0b7-3540adb38478",
   "metadata": {
    "tags": []
   },
   "outputs": [
    {
     "name": "stdout",
     "output_type": "stream",
     "text": [
      "('Gabriele Bleser-Taetz', 8, 12)\n",
      "('Gabriele Nachname', 8, 8)\n",
      "Bleser-Taetz Nachname\n",
      "Vorname Bleser-Taetz\n"
     ]
    }
   ],
   "source": [
    "def concat(str1 = \"Vorname\", str2 = \"Nachname\"):\n",
    "    return (str1+\" \"+str2), len(str1), len(str2)\n",
    "print(concat(\"Gabriele\",\"Bleser-Taetz\"))\n",
    "print(concat(\"Gabriele\"))\n",
    "# Bei der Verwendung von Positionsargumenten wird das übergebene Argument dem ersten Parameter zugeordnet.\n",
    "# Dies ist nicht, was wir wollen\n",
    "print(concat(\"Bleser-Taetz\")[0])\n",
    "print(concat(str2=\"Bleser-Taetz\")[0]) # Verwendung eines benannten Arguments"
   ]
  }
 ],
 "metadata": {
  "kernelspec": {
   "display_name": "Python 3 (ipykernel)",
   "language": "python",
   "name": "python3"
  },
  "language_info": {
   "codemirror_mode": {
    "name": "ipython",
    "version": 3
   },
   "file_extension": ".py",
   "mimetype": "text/x-python",
   "name": "python",
   "nbconvert_exporter": "python",
   "pygments_lexer": "ipython3",
   "version": "3.11.4"
  }
 },
 "nbformat": 4,
 "nbformat_minor": 5
}
