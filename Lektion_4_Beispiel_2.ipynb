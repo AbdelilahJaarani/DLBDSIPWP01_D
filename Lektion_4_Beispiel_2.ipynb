{
 "cells": [
  {
   "cell_type": "markdown",
   "id": "58e182df-51b5-4959-ae39-44d2593ea6e1",
   "metadata": {},
   "source": [
    "# Definition und Aufruf von Funktionen"
   ]
  },
  {
   "cell_type": "code",
   "execution_count": null,
   "id": "47baf856-d04b-4688-a2d8-7da0cd45b2bb",
   "metadata": {
    "tags": []
   },
   "outputs": [],
   "source": [
    "example_height = 1.85\n",
    "example_weight = 78\n",
    "example_name = \"Müller, Peter\""
   ]
  },
  {
   "cell_type": "markdown",
   "id": "8e595969-f789-4e51-ae86-b3f227af9126",
   "metadata": {
    "tags": []
   },
   "source": [
    "## Aufgabe A\n",
    "Der folgende Code berechnet den Body Mass Index (BMI) aus den oben definierten Variablen und gibt diesen als Ganzzahl mit einer Erklärung aus.\n",
    "\n",
    "```\n",
    "example_bmi = int(example_weight / example_height**2)\n",
    "print(example_name, \"hat einen BMI von ungefähr:\", example_bmi)\n",
    "```\n",
    "\n",
    "1. Implementiere die BMI-Berechnung und -Ausgabe als Funktion. Verwende dabei ein Standardargument für den Namen (z.B. \"Anonym\").\n",
    "2. Rufe die Funktion mit Positions- und benannten Argumenten sowie mit und ohne Angabe des Namen-Arguments auf."
   ]
  },
  {
   "cell_type": "code",
   "execution_count": null,
   "id": "ffe68209-02ab-4ce2-9e95-52a02fb8a26e",
   "metadata": {},
   "outputs": [],
   "source": [
    "def print_bmi(weight, height, name=\"Anonymous\"):\n",
    "    bmi = weight / height**2\n",
    "    print(name, \"hat einen BMI von ungefähr:\", int(bmi))\n",
    "\n",
    "print_bmi(example_weight, example_height, example_name)\n",
    "print_bmi(height=example_height, weight=example_weight, name=example_name)\n",
    "print_bmi(example_weight, example_height)"
   ]
  },
  {
   "cell_type": "markdown",
   "id": "5e294a70-b98d-4630-8cc0-15e236d593e1",
   "metadata": {},
   "source": [
    "## Aufgabe B\n",
    "Trenne die BMI-Berechnung von der Ausgabe (d.h. die Funktion soll nur die Berechnung übernehmen). Die Ausgabe soll im Hauptprogramm stattfinden. Überlege, inwiefern dies sinnvoller ist."
   ]
  },
  {
   "cell_type": "code",
   "execution_count": null,
   "id": "c7a8e0eb-ca03-47f8-a5f0-73c5e9d1dd7e",
   "metadata": {},
   "outputs": [],
   "source": [
    "def calc_bmi(weight, height):\n",
    "    return weight / height**2\n",
    "\n",
    "bmi = calc_bmi(example_weight, example_height)\n",
    "print(example_name, \"has a BMI of about:\", int(bmi))"
   ]
  },
  {
   "cell_type": "markdown",
   "id": "06c954aa-4d3d-4617-9219-922512d8d5da",
   "metadata": {},
   "source": [
    "Eine Funktion sollte eine wohldefinierte Aufgabe kapseln, um möglichst häufig wiederverwendbar zu sein. Berechnung und Ausgabe sind zwei verschiedene Aufgaben. In einem Anwendungsfall, bei dem das berechnete Ergebnis nicht ausgegeben, sondern weiter verarbeitet werden soll, ist es sinnvoller, eine Funktion zu verwenden, die nur die Berechnung leistet."
   ]
  },
  {
   "cell_type": "code",
   "execution_count": null,
   "id": "abcb0067-1c76-4c94-8ad6-c4ca6507d6d9",
   "metadata": {},
   "outputs": [],
   "source": []
  }
 ],
 "metadata": {
  "kernelspec": {
   "display_name": "Python 3 (ipykernel)",
   "language": "python",
   "name": "python3"
  },
  "language_info": {
   "codemirror_mode": {
    "name": "ipython",
    "version": 3
   },
   "file_extension": ".py",
   "mimetype": "text/x-python",
   "name": "python",
   "nbconvert_exporter": "python",
   "pygments_lexer": "ipython3",
   "version": "3.11.4"
  }
 },
 "nbformat": 4,
 "nbformat_minor": 5
}
