{
 "cells": [
  {
   "cell_type": "markdown",
   "id": "b474d14b-5ead-417d-a501-3d94bba6b278",
   "metadata": {
    "tags": []
   },
   "source": [
    "# Einführung in die Programmierung mit Python\n",
    "## Übungsaufgaben\n",
    "Die folgenden (kleinen) Programmieraufgaben sollen dir die Möglichkeit geben, die Inhalte des Skripts praktisch auszuprobieren, teilweise auch etwas über das Skript hinauszugehen, das Programmieren und Lesen von Dokumentationen zu üben und programmiertechnische Besonderheiten zu erfahren. Die Aufgaben sind (meist) lektionsübergreifend. Die Code-Schnipsel sind als Lösungsbeispiele, jedoch nicht als Musterlösung anzusehen."
   ]
  },
  {
   "cell_type": "markdown",
   "id": "fe4c4bad-5a7b-4eef-8ce6-bdd23b7873bb",
   "metadata": {},
   "source": [
    "**1. Einfache Dateioperationen und Ausnahmebehandlung**\n",
    "* Öffne eine Datei im Lesemodus und gib den Inhalt der Datei aus. Der Dateiname soll dabei über eine Benutzereingabe definiert werden.\n",
    "* Teste Namen von (in deiner lokalen Umgebung) existierenden und nichtexistierenden Dateien.\n",
    "* Fange mögliche Ausnahmen im Programm ab. Du kannst dich dabei auf diejenigen beziehen, die im Skript vorgestellt werden."
   ]
  },
  {
   "cell_type": "code",
   "execution_count": null,
   "id": "b8169f60-2f60-4b50-863b-c66ddc3f272a",
   "metadata": {
    "scrolled": true
   },
   "outputs": [],
   "source": [
    "# Die input-Funktion liefert einen String zurück\n",
    "filename = input(\"Bitte geben Sie den Dateinamen ein: \")\n",
    "try:\n",
    "    # Datei im Lesemodus öffnen\n",
    "    file = open(filename,'r')\n",
    "    # Inhalt ausgeben\n",
    "    print(\"Inhalt der Datei:\")\n",
    "    print(file.read())\n",
    "except FileNotFoundError:\n",
    "    # Behandelt den Fehler einer nicht gefundenen Datei\n",
    "    print(\"Fehler: Die Datei\", filename, \"wurde nicht gefunden.\")\n",
    "else:\n",
    "    file.close()"
   ]
  },
  {
   "cell_type": "code",
   "execution_count": null,
   "id": "bd420026-da11-4905-ab55-d79accb64873",
   "metadata": {},
   "outputs": [],
   "source": [
    "# Alternative unter Verwendung des with-Statement, siehe z.B. [https://docs.python.org/3/whatsnew/2.5.html#pep-343-the-with-statement]\n",
    "filename = input(\"Bitte geben Sie den Dateinamen ein: \")\n",
    "try:\n",
    "    # Datei im Lesemodus öffnen\n",
    "    with open(filename,'r') as file:\n",
    "        # Inhalt ausgeben\n",
    "        print(\"Inhalt der Datei:\")\n",
    "        print(file.read())\n",
    "except FileNotFoundError:\n",
    "    # Behandelt den Fehler einer nicht gefundenen Datei\n",
    "    print(\"Fehler: Die Datei\", filename, \"wurde nicht gefunden.\")"
   ]
  },
  {
   "cell_type": "markdown",
   "id": "6cf69d4d-03eb-4397-a1bf-7853d8f2c5b7",
   "metadata": {},
   "source": [
    "**2. Funktionen und Ausnahmebehandlung**\n",
    "* Fordere die benutzende Person auf, zunächst ihre Körpergröße und anschließend ihr Gewicht einzugeben. \n",
    "* Definiere eine Funktion, die den BMI (Körpergewicht in kg geteilt durch quadrierte Körpergröße in m) berechnet. Rufe diese mit den Eingaben auf und gib den BMI mit einer Erklärung aus.\n",
    "* Teste unterschiedliche Eingaben, z.B. Körpergröße \"0\", \"No\" etc. \n",
    "* Fange mögliche Ausnahmen im Programm ab. Du kannst dich dabei auf diejenigen beziehen, die im Skript vorgestellt werden."
   ]
  },
  {
   "cell_type": "code",
   "execution_count": null,
   "id": "a4ee7def-1b05-4a39-b9c2-8e31465e9f51",
   "metadata": {},
   "outputs": [],
   "source": [
    "# Funktionsdefinition\n",
    "def compute_bmi(height, weight):\n",
    "    return weight/(height)**2\n",
    "\n",
    "try:\n",
    "    # Eingaben\n",
    "    height = float(input(\"Körpergröße [m]\"))\n",
    "    weight = float(input(\"Körpergewicht [kg]\"))\n",
    "    # Berechnung\n",
    "    bmi = compute_bmi(height, weight)\n",
    "    # Ausgabe\n",
    "    print(\"BMI: \"+str(bmi)) #Ohne den Cast nach String erscheint ein TypeError\n",
    "    #Andere Möglichkeit mit Rundung auf zwei Nachkommastellen\n",
    "    #print(f\"BMI: {round(bmi,2)}\")\n",
    "except ValueError:\n",
    "    print(\"Bitte geben Sie eine valide (Fließkomma)Zahl ein\")\n",
    "except ZeroDivisionError:\n",
    "    print(\"Division durch 0 nicht möglich. Bitte geben Sie eine valide Körpergröße ein.\")\n",
    "except Exception as e: # Anmerkung: Diese Syntax geht über das Skript hinaus\n",
    "    print(\"Unerwarteter Fehler\", type(e), \":\", e)"
   ]
  },
  {
   "cell_type": "code",
   "execution_count": null,
   "id": "96f8a9d6-ce25-42c7-8e6b-e0ea5f960ec9",
   "metadata": {},
   "outputs": [],
   "source": [
    "# Variante, bei der mögliche Ausnahmen lokaler behandelt werden\n",
    "\n",
    "# Funktionsdefinition\n",
    "def compute_bmi(height, weight):\n",
    "    try:\n",
    "        return weight/(height)**2\n",
    "    except ZeroDivisionError:\n",
    "        print(\"Division durch 0 nicht möglich. Bitte übergeben Sie eine valide Körpergröße.\")\n",
    "        return -1\n",
    "try:\n",
    "    height = float(input(\"Körpergröße [m]\"))\n",
    "    weight = float(input(\"Körpergewicht [kg]\"))\n",
    "except ValueError:\n",
    "    print(\"Bitte geben Sie eine valide (Fließkomma)Zahl ein\")\n",
    "else:\n",
    "    bmi = compute_bmi(height, weight)\n",
    "    print(\"BMI: \"+str(bmi)) #Ohne den Cast nach String erscheint ein TypeError"
   ]
  },
  {
   "cell_type": "markdown",
   "id": "21ca1e8c-971f-4a30-9e8f-e74c68c05aed",
   "metadata": {},
   "source": [
    "**3. Strings, Listen und List Comprehensions**\n",
    "\n",
    "Die Liste `names` enthält Vornamen. Implementiere nun zwei List Comprehensions, um zwei weitere Listen zu erzeugen, eine mit allen Vornamen, die weniger als sechs Buchstaben enthalten, und eine mit allen Vornamen, die sechs oder mehr Buchstaben enthalten. Bei den kurzen Vornamen, hänge “ (short)” an, bei den langen, hänge “ (long)” an. Gib die Listen aus."
   ]
  },
  {
   "cell_type": "code",
   "execution_count": null,
   "id": "92054a6f-0c15-4958-9ef8-d80515644363",
   "metadata": {},
   "outputs": [],
   "source": [
    "names = [\"Bernd\",\"Martina\",\"Thorsten\",\"Franka\",\"Luise\"]\n",
    "names_short = [x+\" (short)\" for x in names if len(x)<6]\n",
    "names_long = [x+\" (long)\" for x in names if len(x)>=6]\n",
    "print(names_short)\n",
    "print(names_long)"
   ]
  },
  {
   "cell_type": "markdown",
   "id": "e3f7d598-2c98-4388-bc0a-250a72dea132",
   "metadata": {},
   "source": [
    "**4. Indizierung, ranges**\n",
    "\n",
    "* Speichere deinen Vornamen in einer Variablen.\n",
    "* Gib den ersten Buchstaben deines Vornamens aus.\n",
    "* Gib die ersten drei Buchstaben deines Vornamens aus.\n",
    "* Erzeuge eine Zahlenfolge (range), die die geraden Zahlen von 0 bis einschließlich der 10 enthält. Wandle die erzeugte Zahlenfolge in eine Liste um.\n",
    "* Ergänze diese Liste um die fehlenden ungeraden Zahlen und gib die Liste aus. Du kannst die ursprüngliche Liste entweder mittels der insert-Funktion auffüllen, oder auch mithilfe einer List Comprehension eine neue Liste erzeugen."
   ]
  },
  {
   "cell_type": "code",
   "execution_count": null,
   "id": "1de05a4d-c756-4203-8042-c7e90c6d02d4",
   "metadata": {},
   "outputs": [],
   "source": [
    "my_name = \"Gabriele\"\n",
    "# erster Buchstabe am Index 0 -> Indizierung beginnt bei 0\n",
    "print(my_name[0])\n",
    "# erste drei Buchstaben -> der Stopp-Index (Zahl hinter dem Doppelpunkt) ist im ausgeschnittenen Teilstring nicht enthalten\n",
    "print(my_name[0:3])\n",
    "\n",
    "# Liste mit geraden Zahlen\n",
    "my_list = list(range(0,11,2))\n",
    "my_list.insert(1,1) # erst der Einfüge-Index, dann das Element\n",
    "my_list.insert(3,3)\n",
    "my_list.insert(5,5)\n",
    "my_list.insert(7,7)\n",
    "my_list.insert(9,9)\n",
    "\n",
    "# Anmerkung: Die einzelnen Aufrufe können auch durch eine Schleife ersetzt werden\n",
    "# for x in range(2,11,2):\n",
    "#     my_list.insert(x-1,x-1)\n",
    "print(my_list)"
   ]
  },
  {
   "cell_type": "markdown",
   "id": "9c6cbf84-291b-4a5a-b978-ff7f7c6b03eb",
   "metadata": {},
   "source": [
    "**5. Logging**\n",
    "\n",
    "* Importiere die Logging-Bibliothek und schreibe fünf Loggingnachrichten (mit beliebigem Inhalt), je eine für jede Dringlichkeitsstufe. Führe den Code aus. Welche Ausgabe siehst du und warum?\n",
    "* Konfiguriere das Logging-Modul so, dass Nachrichten aller Dringlichkeitsstufen ausgegeben werden. Führe den Code erneut aus. Welche Ausgabe siehst du und warum? Wenn die Ausgabe nicht deinen Erwartungen entspricht, recherchiere [hier](https://docs.python.org/3/library/logging.html#logging.basicConfig).\n",
    "* Konfiguriere das Logging-Modul so, dass allen Nachrichten die aktuelle Zeit vorangestellt wird.\n",
    "* Konfiguriere das Logging-Modul so, dass alle Nachrichten in eine Datei ausgegeben werden.\n",
    "* Konfiguriere das Logging-Modul so, dass die Log-Datei bei wiederholtem Aufruf überschrieben wird."
   ]
  },
  {
   "cell_type": "code",
   "execution_count": null,
   "id": "75663331-1bd8-4fe0-b30f-ed81de35ab47",
   "metadata": {},
   "outputs": [],
   "source": [
    "# Import des Moduls\n",
    "import logging\n",
    "\n",
    "# Konfiguration\n",
    "# Ohne das force=True werden neue Konfigurationen bei mehrfachem Aufruf nicht umgesetzt!\n",
    "# Ausgabe aller Dringlichkeitsstufen\n",
    "logging.basicConfig(level=logging.DEBUG, force=True)\n",
    "# Ausgabe der aktuellen Zeit mit den Log-Nachrichten\n",
    "logging.basicConfig(level=logging.DEBUG, format=\"%(asctime)s: %(message)s\", force=True)\n",
    "# Ausgabe in eine Datei\n",
    "logging.basicConfig(level=logging.DEBUG, format=\"%(asctime)s: %(message)s\", filename=\"mylog.log\", force=True)\n",
    "# Überschreiben der Datei\n",
    "logging.basicConfig(level=logging.DEBUG, format=\"%(asctime)s: %(message)s\", filename=\"mylog.log\", filemode=\"w\", force=True)\n",
    "\n",
    "# Log-Nachrichten jeder Dringlichkeitsstufe\n",
    "logging.debug(\"Debug\")\n",
    "logging.info(\"Info\")\n",
    "logging.warning(\"Warning\")\n",
    "logging.error(\"Error\")\n",
    "logging.critical(\"Critical\")"
   ]
  },
  {
   "cell_type": "markdown",
   "id": "c8ff123f-3dba-4c3f-8cdc-a83cd61e86a1",
   "metadata": {},
   "source": [
    "**6. Plotting**\n",
    "\n",
    "Verwende geeignete Funktionen aus der Matplotlib sowie NumPy, um eine Sinusfunktion im Bereich [-4,4] darzustellen. \n",
    "\n",
    "Tipp: Zur Erstellung der Funktionswerte kannst du die Funktionen [arange](https://numpy.org/doc/stable/reference/generated/numpy.arange.html) und [sin](https://numpy.org/doc/stable/reference/generated/numpy.sin.html) aus NumPy verwenden. Mittels arange kannst du Samples einer vorgegebenen Schrittweite im oben angegebenen Bereich generieren."
   ]
  },
  {
   "cell_type": "code",
   "execution_count": null,
   "id": "ded584fa-87cf-40d7-81d4-2ba7443a4b1c",
   "metadata": {},
   "outputs": [],
   "source": [
    "from matplotlib import pyplot\n",
    "import numpy\n",
    "\n",
    "# Erstellung der Funktionswerte\n",
    "x = numpy.arange(-4,4.1,0.1) # 0.1 gibt die Schrittweite an\n",
    "y = numpy.sin(x)\n",
    "\n",
    "pyplot.plot(x, y, \"-\") # \"-\" gibt an, dass die Funktionswerte mit einer durchgezogenen Linie verbunden werden (teste auch \"*\")\n",
    "pyplot.xlabel(\"x\") # Beschriftung der x-Achse\n",
    "pyplot.ylabel(\"sin(x)\") # Beschriftung der y-Achse\n",
    "pyplot.title(\"Mein erster Plot\") # Titel\n",
    "pyplot.show() # Anmerkung: Wird in Jupyter Notebooks automatisch aufgerufen\n",
    "\n",
    "# Weitere Erklärungen findest du hier: https://matplotlib.org/stable/api/pyplot_summary.html"
   ]
  },
  {
   "cell_type": "markdown",
   "id": "cbb2f6fe-16e1-47cb-bd0c-d6a0c22b057c",
   "metadata": {},
   "source": [
    "**7. NumPy Array**\n",
    "\n",
    "* Erzeuge zwei NumPy-Arrays mit den Integer-Zahlen von -3 bis 3 auf zwei Arten: \n",
    "    1. durch direkte Befüllung bei der Initialisierung\n",
    "    2. durch Erzeugung eines leeren Arrays mit [empty](https://numpy.org/doc/stable/reference/generated/numpy.empty.html) und der Befüllung mit Werten mittels range, einer for-Schleife und [append](https://numpy.org/doc/stable/reference/generated/numpy.append.html#numpy-append). \n",
    "* Implementiere dieselbe Funktionalität einmal durch Einbindung des gesamten NumPy-Moduls und einmal durch gezielte Einbindung der benötigten Funktionen.\n",
    "* Tipp: Schaue dir die Dokumentationen unter den gegebenen Links genau an. Mittels dieser Aufgabe sollst du u.a. das Lesen von Dokumentationen üben."
   ]
  },
  {
   "cell_type": "code",
   "execution_count": null,
   "id": "7b284064-a883-44fb-a2ce-b7054d2584f3",
   "metadata": {},
   "outputs": [],
   "source": [
    "from numpy import array, empty, append\n",
    "# import numpy -> Aufruf der Funktionen dann mit numpy.<Funktionsname>\n",
    "\n",
    "# 1. Direkte Befüllung\n",
    "a1 = array([-3,-2,-1,0,1,2,3])\n",
    "# 2. Zunächst leeres Array\n",
    "a2 = empty(0, dtype=int) # dtype gibt den Datentyp der Elemente vor\n",
    "numbers = range(-3,4)\n",
    "for n in numbers:\n",
    "    a2 = append(a2, n) # Merke, append erzeugt eine Kopie mit den angehängten Elementen, die dann zurückgegeben wird \n",
    "\n",
    "print(a1)\n",
    "print(a2)"
   ]
  },
  {
   "cell_type": "markdown",
   "id": "e3dfcfef",
   "metadata": {},
   "source": [
    "**8. Dokumentation einer Funktion**\n",
    "\n",
    "* Schreibe eine Funktion my_exp, die zwei numerische Argumente a, b erwartet und die Ergebnisse a „hoch“ b und a „mal“ b zurückliefert. \n",
    "* Statte diese Funktion mit einem Hilfetext aus. \n",
    "* Rufe den Hilfetext ab.\n",
    "* Rufe die Funktion mit beliebigen Werten auf. Bestimme den Typ des Rückgabewertes."
   ]
  },
  {
   "cell_type": "code",
   "execution_count": null,
   "id": "b7c2437f-401d-4a60-8c6c-c15f1696c292",
   "metadata": {},
   "outputs": [],
   "source": [
    "# Funktionsdefinition\n",
    "def my_exp(a,b):\n",
    "    # Docstring als erste Anweisung nach der Funktionssignatur\n",
    "    \"\"\" \n",
    "    Diese Funktion liefert zwei Werte zurück: 1) a \"hoch\" b, 2) a \"mal\" b\n",
    "    \"\"\"\n",
    "    return a**b, a*b\n",
    "help(my_exp)\n",
    "result = my_exp(2,3)\n",
    "print(\"Das Ergebnis lautet\", result, \"und ist vom Datentyp\", type(result)) \n",
    "# Tupel als Rückgabewert bei Funktionen, die mehr als ein Element zurückgeben. \n",
    "# Zugriff hier über result[0], result[1].\n",
    "\n",
    "# Alternativ:\n",
    "result1, result2 = my_exp(2,3)\n",
    "print(\"Die Ergebnisse lauten\", result1, \"und\", result2)"
   ]
  },
  {
   "cell_type": "markdown",
   "id": "e4f24f58",
   "metadata": {},
   "source": [
    "**9. Iteratoren**\n",
    "\n",
    "* Erzeuge eine Liste mit beliebigen Einträgen (z.B. Zahlen)\n",
    "* Gib alle Elemente der Liste aus:\n",
    "    1. Basierend auf einer for-Schleife\n",
    "    2. Basierend auf einer while-Schleife unter Verwendung der Funktionen [iter](https://docs.python.org/3.9/library/functions.html?highlight=next#iter) und [next](https://docs.python.org/3.9/library/functions.html?highlight=next#next)."
   ]
  },
  {
   "cell_type": "code",
   "execution_count": null,
   "id": "3ba6918f",
   "metadata": {},
   "outputs": [],
   "source": [
    "my_list = list(range(0,5))\n",
    "# 1. for-Schleife\n",
    "for n in my_list:\n",
    "    print(n, end=\"\") # Das zweite Argument sorgt dafür, dass die Ausgabe nicht mit einem Zeilenumbruch beendet wird\n",
    "print(\"\") # Um einen finalen Zeilenumbruch zu ergänzen\n",
    "\n",
    "# Auch möglich\n",
    "#for n in iter(my_list):\n",
    "#    print(n)\n",
    "\n",
    "# 2. while-Schleife, iter, next\n",
    "my_iter = iter(my_list)\n",
    "while True:\n",
    "    # Das zweite (optionale) Argument gibt an, was am Ende der Liste zurückgeliefert werden soll (hier: \"end\")\n",
    "    # Ohne dieses Argument wird eine StopIteration ausgelöst (die auch abgefangen werden könnte)\n",
    "    element = next(my_iter, \"end\") \n",
    "    if element == \"end\":\n",
    "        break\n",
    "    print(element, end=\"\")\n",
    "print(\"\")\n",
    "\n",
    "# Noch kompakter\n",
    "#:= erlaubt die Zuweisung einer Variablen innerhalb eines Ausdrucks\n",
    "my_iter = iter(my_list)\n",
    "while ((element := next(my_iter, \"end\")) != \"end\"):\n",
    "    print(element, end=\"\")\n",
    "print(\"\")"
   ]
  },
  {
   "cell_type": "markdown",
   "id": "0641a3ca",
   "metadata": {},
   "source": [
    "**10. Collections**\n",
    "\n",
    "* Schreibe ein Programm, das ein Dictionary mit Angaben zu deiner Person erstellt (z.B. Vorname, Nachname, Haarfarbe) und die einzelnen Angaben mittels einer for-Schleife ausgibt.\n",
    "* Erweitere dein Programm, so dass mehrere Personen gespeichert und deren Angaben ausgegeben werden können. Tipp: Verwende hierzu eine verschachtelte Datenstruktur sowie verschachtelte for-Schleifen."
   ]
  },
  {
   "cell_type": "code",
   "execution_count": null,
   "id": "be810318",
   "metadata": {},
   "outputs": [],
   "source": [
    "# Ein Dictionary pro Person\n",
    "person_1 = {\"Vorname\":\"Martina\",\"Nachname\":\"Müller\",\"Größe\":1.75, \"Haarfarbe\":\"Braun\"}\n",
    "person_2 = {\"Vorname\":\"Martin\",\"Nachname\":\"Müller\",\"Größe\":1.85, \"Haarfarbe\":\"Blond\"}\n",
    "# Liste von Dictionaries, um mehrere Personen speichern zu können\n",
    "family = [person_1,person_2]\n",
    "# Ausgabe\n",
    "for person in family: # Iteriere über alle Personen in der Liste\n",
    "    for item in person: # Iteriere über alle Angaben einer Person\n",
    "        print(str(item)+\" : \"+str(person.get(item)))"
   ]
  },
  {
   "cell_type": "code",
   "execution_count": null,
   "id": "629c5e52-87af-47fb-97e7-8f3091cfc6c9",
   "metadata": {},
   "outputs": [],
   "source": []
  }
 ],
 "metadata": {
  "kernelspec": {
   "display_name": "Python 3 (ipykernel)",
   "language": "python",
   "name": "python3"
  },
  "language_info": {
   "codemirror_mode": {
    "name": "ipython",
    "version": 3
   },
   "file_extension": ".py",
   "mimetype": "text/x-python",
   "name": "python",
   "nbconvert_exporter": "python",
   "pygments_lexer": "ipython3",
   "version": "3.11.7"
  }
 },
 "nbformat": 4,
 "nbformat_minor": 5
}
