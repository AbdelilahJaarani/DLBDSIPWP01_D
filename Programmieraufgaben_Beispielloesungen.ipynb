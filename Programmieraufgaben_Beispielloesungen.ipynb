{
 "cells": [
  {
   "cell_type": "markdown",
   "id": "b474d14b-5ead-417d-a501-3d94bba6b278",
   "metadata": {
    "tags": []
   },
   "source": [
    "# Einführung in die Programmierung mit Python\n",
    "## Übungsaufgaben\n",
    "Die folgenden (kleinen) Programmieraufgaben sollen dir die Möglichkeit geben, die Inhalte des Skripts praktisch auszuprobieren, teilweise auch etwas über das Skript hinauszugehen, das Programmieren und Lesen von Dokumentationen zu üben und programmiertechnische Besonderheiten zu erfahren. Die Aufgaben sind (meist) lektionsübergreifend."
   ]
  },
  {
   "cell_type": "markdown",
   "id": "fe4c4bad-5a7b-4eef-8ce6-bdd23b7873bb",
   "metadata": {},
   "source": [
    "**1. Ausnahmen**\n",
    "\n",
    "Werde dir darüber bewusst, welche Arten von Ausnahmen es gibt (Auswahl) und wann sie auftreten. Übe auch die Deklaration einer Funktion.\n",
    "\n",
    "* Öffne eine Datei im Lesemodus. Der Dateiname soll über eine Benutzereingabe definiert werden. \n",
    "* Teste Namen von (in deiner lokalen Umgebung) existierenden und nichtexistierenden Dateien.\n",
    "* Fange mögliche Ausnahmen im Programm ab."
   ]
  },
  {
   "cell_type": "code",
   "execution_count": null,
   "id": "b8169f60-2f60-4b50-863b-c66ddc3f272a",
   "metadata": {
    "scrolled": true
   },
   "outputs": [],
   "source": [
    "try:\n",
    "    filename = input(\"Bitte geben Sie einen Dateinamen ein: \")\n",
    "    myfile = open(filename,\"r\")\n",
    "    print(myfile.read())\n",
    "    myfile.close()\n",
    "except FileNotFoundError:\n",
    "    print(\"Datei nicht gefunden\")"
   ]
  },
  {
   "cell_type": "markdown",
   "id": "6cf69d4d-03eb-4397-a1bf-7853d8f2c5b7",
   "metadata": {},
   "source": [
    "* Fordere den/die Benutzer:in auf, zunächst seine/ihre Körpergröße und anschließend sein/ihr Gewicht einzugeben. \n",
    "* Definiere eine Funktion, die den BMI (Körpergewicht in kg geteilt durch quadrierte Körpergröße in m) berechnet. Rufe diese mit den Eingaben auf und gib den BMI mit einer Erklärung (z.B. \"BMI: \\<hier das Ergebnis\\>\") aus.\n",
    "* Was passiert, wenn für die Körpergröße der Wert 0 eingegeben wird? \n",
    "* Was passiert, wenn eine Angabe nicht als Zahl, sondern als Wort angegeben wird? Wie müssen Fließkommazahlen eingegeben werden? \n",
    "* Wie kannst du eine Zeichenkette und eine Zahl zusammenbringen? Welche Ausnahme kann dabei auftreten?\n",
    "* Fange mögliche Ausnahmen im Programm ab."
   ]
  },
  {
   "cell_type": "code",
   "execution_count": null,
   "id": "a4ee7def-1b05-4a39-b9c2-8e31465e9f51",
   "metadata": {},
   "outputs": [],
   "source": [
    "def compute_bmi(height, weight):\n",
    "    return weight/(height)**2\n",
    "try:\n",
    "    height = float(input(\"Körpergröße [m]\"))\n",
    "    weight = float(input(\"Körpergewicht [kg]\"))\n",
    "    bmi = compute_bmi(height, weight)\n",
    "    print(\"BMI: \"+str(bmi)) #Ohne den Cast nach String erscheint ein TypeError\n",
    "    #Andere Möglichkeit mit Rundung auf zwei Nachkommastellen\n",
    "    #print(f\"BMI: {round(bmi,2)}\")\n",
    "except ZeroDivisionError:\n",
    "    print(\"Division durch 0 nicht möglich\")\n",
    "except ValueError:\n",
    "    print(\"Bitte geben Sie eine Fließkommazahl ein\")\n",
    "except:\n",
    "    print(\"Unbekannte Ausnahme\")\n",
    "print(\"Ende\")"
   ]
  },
  {
   "cell_type": "markdown",
   "id": "21ca1e8c-971f-4a30-9e8f-e74c68c05aed",
   "metadata": {},
   "source": [
    "**2. Strings, Listen und List Comprehension**\n",
    "\n",
    "Erzeuge eine Liste mit Vornamen. Verwende nun List Comprehensions, um zwei weitere Listen zu erzeugen, eine mit allen Vornamen, die weniger als 6 Buchstaben enthalten, und eine mit allen Vornamen, die 6 oder mehr Buchstaben enthalten. Bei den kurzen Vornamen, hänge “ (short)” an, bei den langen, hänge “ (long)” an. Gib die Listen aus."
   ]
  },
  {
   "cell_type": "code",
   "execution_count": null,
   "id": "92054a6f-0c15-4958-9ef8-d80515644363",
   "metadata": {},
   "outputs": [],
   "source": [
    "names = [\"Bernd\",\"Martina\",\"Thorsten\",\"Franka\",\"Luise\"]\n",
    "names_short = [x+\" (short)\" for x in names if len(x)<6]\n",
    "names_long = [x+\" (long)\" for x in names if len(x)>=6]\n",
    "print(names_short)\n",
    "print(names_long)"
   ]
  },
  {
   "cell_type": "markdown",
   "id": "e3f7d598-2c98-4388-bc0a-250a72dea132",
   "metadata": {},
   "source": [
    "**3. Indizierung, ranges**\n",
    "\n",
    "* Speichere deinen Vornamen in einer Variablen.\n",
    "* Gib den ersten Buchstaben deines Vornamens aus.\n",
    "* Gib die ersten drei Buchstaben deines Vornamens aus.\n",
    "* Erzeuge einen range, der die Zahlen von 0 bis einschließlich der 10 enthält. Modifiziere den Befehl, um einen range zu erzeugen, der nur jede zweite Zahl enthält (0,2...,10).\n",
    "* Wandle den erzeugten range in eine Liste um und füge die fehlenden ungeraden Zahlen an der jeweiligen Stelle mittels insert in diese Liste ein."
   ]
  },
  {
   "cell_type": "code",
   "execution_count": null,
   "id": "1de05a4d-c756-4203-8042-c7e90c6d02d4",
   "metadata": {},
   "outputs": [],
   "source": [
    "my_name = \"Gabriele\"\n",
    "print(my_name[0])\n",
    "print(my_name[0:3])\n",
    "\n",
    "my_list = list(range(0,11,2))\n",
    "my_list.insert(1,1)\n",
    "my_list.insert(3,3)\n",
    "my_list.insert(5,5)\n",
    "my_list.insert(7,7)\n",
    "my_list.insert(9,9)\n",
    "print(my_list)"
   ]
  },
  {
   "cell_type": "markdown",
   "id": "9c6cbf84-291b-4a5a-b978-ff7f7c6b03eb",
   "metadata": {},
   "source": [
    "**4. Logging**\n",
    "\n",
    "* Importiere die Logging-Bibliothek und schreibe fünf Loggingnachrichten (mit beliebigem Inhalt), je eine für jede Dringlichkeitsstufe. Führe den Code aus. Welche Ausgabe siehst du und warum?\n",
    "* Konfiguriere das Logging-Modul so, dass Nachrichten aller Dringlichkeitsstufen ausgegeben werden. Führe den Code erneut aus. Welche Ausgabe siehst du und warum? Wenn die Ausgabe nicht deinen Erwartungen entspricht, recherchiere [hier](https://docs.python.org/3/library/logging.html#logging.basicConfig)\n",
    "* Konfiguriere das Logging-Modul so, dass allen Nachrichten die aktuelle Zeit vorangestellt wird.\n",
    "* Erstelle eine Variable mit einem beliebigen Wert und gebe diese zusammen mit einer der Logging-Nachrichten aus.\n",
    "* Konfiguriere das Logging-Modul so, dass alle Nachrichten in eine Datei ausgegeben werden.\n",
    "* Führe den Code mehrmals aus. Was fällt dir auf, wenn du die Datei öffnest? Wie kannst du dies ändern? Recherchiere dazu ggf. wieder unter dem oben angegebenen Link."
   ]
  },
  {
   "cell_type": "code",
   "execution_count": null,
   "id": "75663331-1bd8-4fe0-b30f-ed81de35ab47",
   "metadata": {},
   "outputs": [],
   "source": [
    "import logging\n",
    "a=5\n",
    "#logging.basicConfig(level=logging.DEBUG, force=True)\n",
    "#logging.basicConfig(level=logging.DEBUG, format=\"%(asctime)s: %(message)s\", force=True)\n",
    "logging.basicConfig(filename=\"mylog.log\", filemode=\"w\", level=logging.DEBUG, format=\"%(asctime)s: %(message)s\", force=True)\n",
    "# filemode=\"a\", um die Inhalte nicht zu überschreiben\n",
    "# force=True, damit auch bei wiederholtem Aufruf von basicConfig die neue Konfiguration übernommen wird\n",
    "logging.debug(\"Debug, a=\"+str(a))\n",
    "logging.info(\"Info\")\n",
    "logging.warning(\"Warning\")\n",
    "logging.error(\"Error\")\n",
    "logging.critical(\"Critical\")"
   ]
  },
  {
   "cell_type": "markdown",
   "id": "c8ff123f-3dba-4c3f-8cdc-a83cd61e86a1",
   "metadata": {},
   "source": [
    "**5. Plotting**\n",
    "\n",
    "Verwende geeignete Funktionen aus der Matplotlib sowie NumPy, um eine Sinusfunktion im Bereich [-4,4] darzustellen. \n",
    "\n",
    "Tipp: Zur Erstellung der Funktionswerte kannst du die Funktionen [arange](https://numpy.org/doc/stable/reference/generated/numpy.arange.html) und [sin](https://numpy.org/doc/stable/reference/generated/numpy.sin.html) aus NumPy verwenden. Mittels arange kannst du Samples einer vorgegebenen Schrittweite im oben angegebenen Bereich generieren."
   ]
  },
  {
   "cell_type": "code",
   "execution_count": null,
   "id": "ded584fa-87cf-40d7-81d4-2ba7443a4b1c",
   "metadata": {},
   "outputs": [],
   "source": [
    "from matplotlib import pyplot\n",
    "import numpy\n",
    "\n",
    "x = numpy.arange(-4,4.1,0.1)\n",
    "y = numpy.sin(x)\n",
    "\n",
    "fig, ax = pyplot.subplots()\n",
    "ax.plot(x, y, \"-\")\n",
    "pyplot.show()"
   ]
  },
  {
   "cell_type": "markdown",
   "id": "cbb2f6fe-16e1-47cb-bd0c-d6a0c22b057c",
   "metadata": {},
   "source": [
    "**6. NumPy Array**\n",
    "\n",
    "* Erzeuge zwei NumPy-Arrays mit den Integer-Zahlen von -3 bis 3 auf zwei Arten: \n",
    "    1. durch direkte Befüllung bei der Initialisierung\n",
    "    2. durch Erzeugung eines leeren Arrays mit [empty](https://numpy.org/doc/stable/reference/generated/numpy.empty.html) und der Befüllung mit Werten mittels range, einer for-Schleife und [append](https://numpy.org/doc/stable/reference/generated/numpy.append.html#numpy-append). \n",
    "* Implementiere dieselbe Funktionalität einmal durch Einbindung des gesamten NumPy-Moduls und einmal durch gezielte Einbindung der benötigten Funktionen."
   ]
  },
  {
   "cell_type": "code",
   "execution_count": null,
   "id": "7b284064-a883-44fb-a2ce-b7054d2584f3",
   "metadata": {},
   "outputs": [],
   "source": [
    "from numpy import array, empty, append\n",
    "# from numpy -> Aufruf der Funktionen dann mit numpy.<Funktionsname>\n",
    "\n",
    "a1 = array([-3,-2,-1,0,1,2,3])\n",
    "a2 = empty(0, dtype=int)\n",
    "numbers = range(-3,4)\n",
    "for n in numbers:\n",
    "    a2 = append(a2, n)\n",
    "print(a1)\n",
    "print(a2)"
   ]
  },
  {
   "cell_type": "markdown",
   "id": "e3dfcfef",
   "metadata": {},
   "source": [
    "**7. Dokumentation**\n",
    "\n",
    "* Schreibe eine Funktion my_exp, die zwei numerische Argumente a, b erwartet und die Ergebnisse a „hoch“ b und a „mal“ b zurückliefert. \n",
    "* Statte diese Funktion mit einem Hilfetext aus. \n",
    "* Rufe den Hilfetext ab.\n",
    "* Rufe die Funktion mit beliebigen Werten auf. Bestimme den Typ des Rückgabewertes."
   ]
  },
  {
   "cell_type": "code",
   "execution_count": null,
   "id": "b7c2437f-401d-4a60-8c6c-c15f1696c292",
   "metadata": {},
   "outputs": [],
   "source": [
    "def my_exp(a,b):\n",
    "    \"\"\" \n",
    "    Diese Funktion liefert zwei Werte zurück: 1) a \"hoch\" b, 2) a \"mal\" b\n",
    "    \"\"\"\n",
    "    return a**b, a*b\n",
    "help(my_exp)\n",
    "result = my_exp(2,3)\n",
    "print(type(result)) \n",
    "#Tupel als Rückgabewert bei Funktionen, die mehr als ein Element zurückgeben"
   ]
  },
  {
   "cell_type": "markdown",
   "id": "e4f24f58",
   "metadata": {},
   "source": [
    "**8. Iteratoren**\n",
    "\n",
    "* Erzeuge eine Liste mit beliebigen Einträgen (z.B. Zahlen)\n",
    "* Gib alle Elemente der Liste aus:\n",
    "    1. Basierend auf einer for-Schleife\n",
    "    2. Basierend auf einer while-Schleife unter Verwendung der Funktionen [iter](https://docs.python.org/3.9/library/functions.html?highlight=next#iter) und [next](https://docs.python.org/3.9/library/functions.html?highlight=next#next)"
   ]
  },
  {
   "cell_type": "code",
   "execution_count": null,
   "id": "3ba6918f",
   "metadata": {},
   "outputs": [],
   "source": [
    "my_list = list(range(0,5))\n",
    "#for-Schleife\n",
    "for n in my_list:\n",
    "    print(n)\n",
    "\n",
    "#Auch möglich\n",
    "#for n in iter(my_list):\n",
    "#    print(n)\n",
    "\n",
    "#while-Schleife, iter, next\n",
    "my_iter = iter(my_list)\n",
    "while True:\n",
    "    element = next(my_iter,\"end\")\n",
    "    if element == \"end\":\n",
    "        break\n",
    "    print(element)\n",
    "\n",
    "#Noch kompakter\n",
    "#:= erlaubt die Zuweisung einer Variablen innerhalb eines Ausdrucks\n",
    "my_iter = iter(my_list)\n",
    "while ((element := next(my_iter, \"end\")) != \"end\"):\n",
    "    print(element)"
   ]
  },
  {
   "cell_type": "markdown",
   "id": "0641a3ca",
   "metadata": {},
   "source": [
    "**9. Collections, Iteratoren**\n",
    "\n",
    "* Schreibe ein Programm, das ein Dictionary mit Angaben zu deiner Person erstellt und mittels eines Iterators alle Angaben ausgibt.\n",
    "* Erweitere dein Programm, so dass mehrere Personen gespeichert und deren Angaben ausgegeben werden können."
   ]
  },
  {
   "cell_type": "code",
   "execution_count": null,
   "id": "be810318",
   "metadata": {},
   "outputs": [],
   "source": [
    "#person_1 = {\"Vorname\":\"Gabriele\",\"Nachname\":\"Bleser-Taetz\",\"Größe\":1.75, \"Haarfarbe\":\"Braun\"}\n",
    "#for item in person_1:\n",
    "#    print(str(item) +\" : \"+str(person_1.get(item)))\n",
    "\n",
    "person_1 = {\"Vorname\":\"Martina\",\"Nachname\":\"Müller\",\"Größe\":1.75, \"Haarfarbe\":\"Braun\"}\n",
    "person_2 = {\"Vorname\":\"Martin\",\"Nachname\":\"Müller\",\"Größe\":1.85, \"Haarfarbe\":\"Blond\"}\n",
    "family = [person_1,person_2]\n",
    "for person in family:\n",
    "    for item in person:\n",
    "        print(str(item)+\" : \"+str(person.get(item)))"
   ]
  },
  {
   "cell_type": "code",
   "execution_count": null,
   "id": "629c5e52-87af-47fb-97e7-8f3091cfc6c9",
   "metadata": {},
   "outputs": [],
   "source": []
  }
 ],
 "metadata": {
  "kernelspec": {
   "display_name": "Python 3 (ipykernel)",
   "language": "python",
   "name": "python3"
  },
  "language_info": {
   "codemirror_mode": {
    "name": "ipython",
    "version": 3
   },
   "file_extension": ".py",
   "mimetype": "text/x-python",
   "name": "python",
   "nbconvert_exporter": "python",
   "pygments_lexer": "ipython3",
   "version": "3.11.4"
  }
 },
 "nbformat": 4,
 "nbformat_minor": 5
}
