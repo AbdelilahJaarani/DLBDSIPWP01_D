{
 "cells": [
  {
   "cell_type": "markdown",
   "id": "65007eb6-c680-4a49-aeda-4fb0b812c271",
   "metadata": {},
   "source": [
    "# Bedingte Anweisungen\n",
    "## Aufgabe\n",
    "Schreibe ein Programm, bei dem zwei Variablen a, b mittels einer Eingabeaufforderung mit Ganzzahlen initialisiert werden. Gib aus, ob a größer, kleiner oder gleich b ist."
   ]
  },
  {
   "cell_type": "code",
   "execution_count": 5,
   "id": "226de8d7-cfb5-495d-b8b2-e539faeee2f4",
   "metadata": {},
   "outputs": [
    {
     "name": "stdout",
     "output_type": "stream",
     "text": [
      "b = 344 ist groesser als a = 4\n"
     ]
    }
   ],
   "source": [
    "a = int(input(\"Gebe bitte die erste Zahl ein\"))\n",
    "b = int(input(\"Gebe bitte die zweite Zahl ein\"))\n",
    "\n",
    "if a > b:\n",
    "    print(f\"a = {a} ist groesser als b = {b}\")\n",
    "elif a == b:\n",
    "    print(f\"a = {a} und b = {b} sind gleich gros\")\n",
    "else:\n",
    "    print(f\"b = {b} ist groesser als a = {a}\")\n",
    "\n",
    "\n"
   ]
  }
 ],
 "metadata": {
  "kernelspec": {
   "display_name": "Python 3 (ipykernel)",
   "language": "python",
   "name": "python3"
  },
  "language_info": {
   "codemirror_mode": {
    "name": "ipython",
    "version": 3
   },
   "file_extension": ".py",
   "mimetype": "text/x-python",
   "name": "python",
   "nbconvert_exporter": "python",
   "pygments_lexer": "ipython3",
   "version": "3.11.4"
  }
 },
 "nbformat": 4,
 "nbformat_minor": 5
}
