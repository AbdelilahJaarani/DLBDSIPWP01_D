{
 "cells": [
  {
   "cell_type": "markdown",
   "id": "413747d6-d21c-414c-9d16-b38414136828",
   "metadata": {
    "tags": []
   },
   "source": [
    "# Gültigkeitsbereich, mutable und immutable Datentypen\n",
    "Überlege dir für die folgenden Code-Zellen, welche Ausgabe du erwartest und mit welcher Begründung. Führe die Zellen dann aus und überprüfe deine Annahmen.\n",
    "Die Inhalte der letzten drei Zellen gehen über das Skript des Kurses hinaus, sind aber für die Programmierpraxis relevant."
   ]
  },
  {
   "cell_type": "code",
   "execution_count": 2,
   "id": "557cf6c8-9c64-4224-9e5b-1cd7ac6edb77",
   "metadata": {
    "tags": []
   },
   "outputs": [
    {
     "ename": "TypeError",
     "evalue": "func() missing 1 required positional argument: 'number'",
     "output_type": "error",
     "traceback": [
      "\u001b[1;31m---------------------------------------------------------------------------\u001b[0m",
      "\u001b[1;31mTypeError\u001b[0m                                 Traceback (most recent call last)",
      "Cell \u001b[1;32mIn[2], line 2\u001b[0m\n\u001b[0;32m      1\u001b[0m number \u001b[38;5;241m=\u001b[39m \u001b[38;5;241m5\u001b[39m\n\u001b[1;32m----> 2\u001b[0m \u001b[43mfunc\u001b[49m\u001b[43m(\u001b[49m\u001b[43m)\u001b[49m\n\u001b[0;32m      3\u001b[0m \u001b[38;5;28mprint\u001b[39m(number)\n\u001b[0;32m      4\u001b[0m \u001b[38;5;28;01mdef\u001b[39;00m \u001b[38;5;21mfunc\u001b[39m():\n",
      "\u001b[1;31mTypeError\u001b[0m: func() missing 1 required positional argument: 'number'"
     ]
    }
   ],
   "source": [
    "number = 5\n",
    "func()\n",
    "print(number)\n",
    "def func():\n",
    "    number = 10\n",
    "\n",
    "# 5 kommt weil die Funktion wird nur aufgerufen aber nicht deklariert"
   ]
  },
  {
   "cell_type": "code",
   "execution_count": 3,
   "id": "a9442e20-b343-4719-9e9c-2ce56f24899c",
   "metadata": {
    "tags": []
   },
   "outputs": [
    {
     "name": "stdout",
     "output_type": "stream",
     "text": [
      "5\n"
     ]
    }
   ],
   "source": [
    "number = 5\n",
    "def func():\n",
    "    number = 10\n",
    "func()\n",
    "print(number)\n",
    "\n",
    "# 5 kommt weil die Funktion wird nur aufgerufen aber nicht deklariert"
   ]
  },
  {
   "cell_type": "code",
   "execution_count": 10,
   "id": "ed100ec2-64fc-49f4-af12-d5f2a2b90c65",
   "metadata": {
    "tags": []
   },
   "outputs": [
    {
     "name": "stdout",
     "output_type": "stream",
     "text": [
      "10\n"
     ]
    }
   ],
   "source": [
    "number = 5\n",
    "def func():\n",
    "    global number\n",
    "    number = 10\n",
    "func()\n",
    "print(number)\n",
    "# 10 kommt weil die Funktion wird nur aufgerufen aber global deklariert"
   ]
  },
  {
   "cell_type": "code",
   "execution_count": 11,
   "id": "47665ae8-d37d-48bc-b2d7-b03ecf5cc4b2",
   "metadata": {},
   "outputs": [
    {
     "name": "stdout",
     "output_type": "stream",
     "text": [
      "5\n"
     ]
    }
   ],
   "source": [
    "number = 5\n",
    "def func(number):\n",
    "    number = 10\n",
    "func(number)\n",
    "print(number)\n",
    "\n",
    "#5 kommt da wieder nur die Funktion aufgerufen wird aber nichts wieder return wird\n"
   ]
  },
  {
   "cell_type": "code",
   "execution_count": 12,
   "id": "a6e75add-8cad-4628-892d-79ad2af8e6cb",
   "metadata": {
    "tags": []
   },
   "outputs": [
    {
     "name": "stdout",
     "output_type": "stream",
     "text": [
      "10\n"
     ]
    }
   ],
   "source": [
    "number = 5\n",
    "def func(number):\n",
    "    number = 10\n",
    "    return number\n",
    "number = func(number)\n",
    "print(number)"
   ]
  },
  {
   "cell_type": "code",
   "execution_count": 13,
   "id": "915eda58-2f59-41ac-90f7-866b9c75723b",
   "metadata": {
    "tags": []
   },
   "outputs": [
    {
     "name": "stdout",
     "output_type": "stream",
     "text": [
      "[10]\n"
     ]
    }
   ],
   "source": [
    "number_list = [5]\n",
    "def func(number_list):\n",
    "    number_list[0] = 10\n",
    "func(number_list)\n",
    "print(number_list)"
   ]
  },
  {
   "cell_type": "code",
   "execution_count": 14,
   "id": "2af0d06c-978c-4583-bf10-bb8a171fe8f1",
   "metadata": {
    "tags": []
   },
   "outputs": [
    {
     "name": "stdout",
     "output_type": "stream",
     "text": [
      "[10]\n"
     ]
    }
   ],
   "source": [
    "number_list = [5]\n",
    "number_list_copy = number_list\n",
    "def func(number_list):\n",
    "    number_list[0] = 10\n",
    "func(number_list_copy)\n",
    "print(number_list)"
   ]
  },
  {
   "cell_type": "code",
   "execution_count": 15,
   "id": "6e4e8d7e-3489-421c-9f0a-8108e6db0e1d",
   "metadata": {
    "tags": []
   },
   "outputs": [
    {
     "name": "stdout",
     "output_type": "stream",
     "text": [
      "[5]\n"
     ]
    }
   ],
   "source": [
    "import copy\n",
    "number_list = [5]\n",
    "number_list_copy = copy.copy(number_list)\n",
    "def func(number_list):\n",
    "    number_list[0] = 10\n",
    "func(number_list_copy)\n",
    "print(number_list)"
   ]
  }
 ],
 "metadata": {
  "kernelspec": {
   "display_name": "Python 3 (ipykernel)",
   "language": "python",
   "name": "python3"
  },
  "language_info": {
   "codemirror_mode": {
    "name": "ipython",
    "version": 3
   },
   "file_extension": ".py",
   "mimetype": "text/x-python",
   "name": "python",
   "nbconvert_exporter": "python",
   "pygments_lexer": "ipython3",
   "version": "3.11.4"
  }
 },
 "nbformat": 4,
 "nbformat_minor": 5
}
